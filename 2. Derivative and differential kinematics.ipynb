{
 "cells": [
  {
   "cell_type": "markdown",
   "metadata": {},
   "source": [
    "# Derivatives of the manipulator\n",
    "In a first time, we come back to the manipulator robot, with a nice Euclidean configuration space."
   ]
  },
  {
   "cell_type": "code",
   "execution_count": 1,
   "metadata": {},
   "outputs": [],
   "source": [
    "from robots import loadTalosArm\n",
    "from scipy.optimize import fmin_slsqp\n",
    "import pinocchio\n",
    "from pinocchio.utils import *\n",
    "from numpy.linalg import norm,inv,pinv,eig,svd\n",
    "\n",
    "m2a = lambda m: np.array(m.flat)\n",
    "a2m = lambda a: np.matrix(a).T\n",
    "\n",
    "robot   = loadTalosArm()\n",
    "robot.initDisplay(loadModel=True)\n",
    "robot.viewer.gui.deleteNode('world',True)\n",
    "robot.initDisplay(loadModel=True)"
   ]
  },
  {
   "cell_type": "markdown",
   "metadata": {},
   "source": [
    "The objective is to set up the derivatives of the problem defined in arm3dconstraint.py.\n",
    "\n",
    "## Derivative of the cost\n",
    "Here nothing special to do: we have taken the sum of square, then the gradient of the cost is simply the residuals. \n",
    "\n",
    "## Checking with finite differencing\n",
    "A rule of thumb is to always first implement the finite-diff of your problem, because it should gives you a good idea of wether the problem is nicely setup and has a chance to work, but also because you will need your finite diff to check the derivatives. "
   ]
  },
  {
   "cell_type": "code",
   "execution_count": 19,
   "metadata": {},
   "outputs": [
    {
     "data": {
      "text/plain": [
       "1.322917781089311e-06"
      ]
     },
     "execution_count": 19,
     "metadata": {},
     "output_type": "execute_result"
    }
   ],
   "source": [
    "# %load dcost.py\n",
    "refQ = robot.q0\n",
    "\n",
    "def cost(q):\n",
    "    residuals = m2a(q-refQ)\n",
    "    return .5*sum(residuals**2)\n",
    "\n",
    "def dCost(q):\n",
    "    dq = m2a(q-refQ)\n",
    "    return dq\n",
    "  \n",
    "def numdiffCost(q,h=1e-6):\n",
    "    f0 = cost(q)\n",
    "    nq,nf = len(q),1\n",
    "    dq = zero(nq)\n",
    "    df_dq = zero([nf,nq])\n",
    "    for i in range(nq):\n",
    "        dq[i] = h\n",
    "        df_dq[:,i] = (cost(q+dq)-f0)/h\n",
    "        dq[i] = 0\n",
    "    return df_dq\n",
    "\n",
    "q=rand(robot.model.nq)\n",
    "norm(dCost(q)-numdiffCost(q))"
   ]
  },
  {
   "cell_type": "markdown",
   "metadata": {},
   "source": [
    "## Derivative of the log residual\n",
    "The residual is a composition of two functions: log and M. \n",
    "$residual(q) = log(M(q))$\n",
    "\n",
    "The derivative of the first function is implemented in pinocchio as pinocchio.Jlog.\n",
    "\n",
    "The derivative of the second function is the Jacobian of the corresponding frame, computed locally (i.e. the velocity nu resulting from the Jacobian are expressed in the local frame at the center of the local frame). To get the frame jacobian, it is necessary to first precompute the joint jacobians, then update the frame placement, before getting the correct frame jacobian.\n"
   ]
  },
  {
   "cell_type": "code",
   "execution_count": 21,
   "metadata": {},
   "outputs": [
    {
     "data": {
      "text/plain": [
       "matrix([[ 3.12464410e-01, -1.73377393e-01, -4.04185585e-01,\n",
       "         -1.67398617e-01, -9.26937848e-05, -2.13985000e-01,\n",
       "          0.00000000e+00],\n",
       "        [ 5.47850180e-01, -1.01596098e-01,  8.15639506e-02,\n",
       "         -2.61691665e-02,  2.13926647e-01,  0.00000000e+00,\n",
       "          0.00000000e+00],\n",
       "        [-2.19364890e-01,  3.75475328e-02,  2.89745219e-02,\n",
       "          1.87791881e-02,  5.11399160e-02,  3.20000000e-02,\n",
       "          0.00000000e+00],\n",
       "        [ 8.46868449e-01, -1.80438502e-01,  1.19973377e-01,\n",
       "         -1.46452994e-03,  9.99998357e-01,  1.66533454e-16,\n",
       "          0.00000000e+00],\n",
       "        [-3.09985293e-01,  5.96857724e-01,  8.02261422e-01,\n",
       "          5.89190132e-01,  1.11022302e-16,  1.00000000e+00,\n",
       "          0.00000000e+00],\n",
       "        [ 4.32114509e-01,  7.81794605e-01, -5.84793125e-01,\n",
       "          8.07993097e-01,  1.81254957e-03,  1.11022302e-16,\n",
       "          0.00000000e+00]])"
      ]
     },
     "execution_count": 21,
     "metadata": {},
     "output_type": "execute_result"
    }
   ],
   "source": [
    "LOCAL = pinocchio.ReferenceFrame.LOCAL\n",
    "WORLD = pinocchio.ReferenceFrame.WORLD\n",
    "\n",
    "pinocchio.forwardKinematics(robot.model,robot.data,q)\n",
    "pinocchio.computeJointJacobians(robot.model,robot.data,q)\n",
    "pinocchio.updateFramePlacements(robot.model,robot.data)\n",
    "pinocchio.getFrameJacobian(robot.model,robot.data,26,LOCAL)        "
   ]
  },
  {
   "cell_type": "markdown",
   "metadata": {},
   "source": [
    "## Derivative in an optimization program\n",
    "Here is the final optimization program with derivatives of the cost and contraint."
   ]
  },
  {
   "cell_type": "code",
   "execution_count": null,
   "metadata": {},
   "outputs": [],
   "source": [
    "# %load arm3dconstraint_diff.py\n",
    "from robots import loadTalosArm\n",
    "from scipy.optimize import fmin_slsqp\n",
    "import pinocchio\n",
    "from pinocchio.utils import *\n",
    "from numpy.linalg import norm,inv,pinv,eig,svd\n",
    "\n",
    "m2a = lambda m: np.array(m.flat)\n",
    "a2m = lambda a: np.matrix(a).T\n",
    "LOCAL = pinocchio.ReferenceFrame.LOCAL\n",
    "WORLD = pinocchio.ReferenceFrame.WORLD\n",
    "\n",
    "robot   = loadTalosArm()\n",
    "robot.initDisplay(loadModel=True)\n",
    "\n",
    "class OptimProblem:\n",
    "    def __init__(self,rmodel,gview=None):\n",
    "        self.rmodel = rmodel\n",
    "        self.rdata = rmodel.createData()\n",
    "\n",
    "        self.refEff = pinocchio.SE3( rotate('y',np.pi/4),                 # Target orientation\n",
    "                                     np.matrix([ -.3, 0.5, 0.2 ]).T)     # Target position\n",
    "        self.idEff = rmodel.getFrameId('gripper_left_fingertip_2_link')\n",
    "        self.refQ = rmodel.neutralConfiguration\n",
    "\n",
    "        self.initDisplay(gview)\n",
    "        \n",
    "    def cost(self,x):\n",
    "        q = a2m(x)\n",
    "        self.residuals = m2a(q-self.refQ)\n",
    "        return .5*sum(self.residuals**2)\n",
    "\n",
    "    def dCost_dx(self,x):\n",
    "        q = a2m(x)\n",
    "        dq = m2a(q-self.refQ)\n",
    "        return dq\n",
    "    \n",
    "    def constraint(self,x):\n",
    "        q = a2m(x)\n",
    "        pinocchio.forwardKinematics(self.rmodel,self.rdata,q)\n",
    "        pinocchio.updateFramePlacements(self.rmodel,self.rdata)\n",
    "        refMeff = self.refEff.inverse()*self.rdata.oMf[self.idEff]\n",
    "        self.eq = m2a(pinocchio.log(refMeff).vector)\n",
    "        return self.eq.tolist()\n",
    "\n",
    "    def dConstraint_dx(self,x):\n",
    "        q = a2m(x)\n",
    "        pinocchio.forwardKinematics(self.rmodel,self.rdata,q)\n",
    "        pinocchio.computeJointJacobians(self.rmodel,self.rdata,q)\n",
    "        pinocchio.updateFramePlacements(self.rmodel,self.rdata)\n",
    "        refMeff = self.refEff.inverse()*self.rdata.oMf[self.idEff]\n",
    "        log_M = pinocchio.Jlog6(refMeff)\n",
    "        M_q = pinocchio.getFrameJacobian(self.rmodel,self.rdata,self.idEff,LOCAL)\n",
    "        self.Jeq = log_M*M_q\n",
    "        return self.Jeq\n",
    "        \n",
    "    @property\n",
    "    def bounds(self):\n",
    "        # return [ (10*l,u) for l,u in zip(self.rmodel.lowerPositionLimit.flat,\n",
    "        #                               self.rmodel.upperPositionLimit.flat) ]\n",
    "        return [ (-10.,10) for i in range(self.rmodel.nq) ]\n",
    "        \n",
    "    def initDisplay(self,gview=None):\n",
    "        self.gview = gview\n",
    "        if gview is None: return\n",
    "        self.gobj = \"world/target6d\"\n",
    "        self.gview.addBox(self.gobj,.1,0.05,0.025,[1,0,0,1])\n",
    "        self.gview.applyConfiguration(self.gobj,se3ToXYZQUAT(self.refEff))\n",
    "        self.gview.refresh()\n",
    "\n",
    "    def callback(self,x):\n",
    "        import time\n",
    "        q = a2m(x)\n",
    "        robot.display(q)\n",
    "        time.sleep(1e-2)\n",
    "\n",
    "\n",
    "robot.q0 = robot.model.neutralConfiguration\n",
    "pbm = OptimProblem(robot.model,robot.viewer.gui)\n",
    "\n",
    "# --- NUMDIFF CHECK ------------------------------------\n",
    "def numdiff(f,x,h=1e-6):\n",
    "    f0 = f(x)\n",
    "    nx,nf = len(x),len(f0)\n",
    "    dx = np.zeros(nx)\n",
    "    df_dx = np.zeros([nf,nx])\n",
    "    for i in range(nx):\n",
    "        dx[i] = h\n",
    "        df_dx[:,i] = (f(x+dx)-f0)/h\n",
    "        dx[i] = 0\n",
    "    return df_dx\n",
    "\n",
    "x = np.random.rand(robot.model.nq)*2-1\n",
    "\n",
    "def costResiduals(x):\n",
    "    pbm.cost(x)\n",
    "    return pbm.residuals\n",
    "\n",
    "assert( norm( pbm.dCost_dx(x) - np.dot( numdiff(costResiduals,x).T,costResiduals(x) ) ) <1e-6 )\n",
    "assert( norm( pbm.dConstraint_dx(x) - numdiff(lambda x:np.array(pbm.constraint(x)),x) ) <1e-6 )\n",
    "\n",
    "# --- NUMDIFF CHECK ------------------------------------\n",
    "\n",
    "#x0  = np.random.rand(robot.model.nq)\n",
    "x0 = np.array([ .7,.9,.8,.5,.9,.7,.1])\n",
    "\n",
    "result = fmin_slsqp(x0       = x0,\n",
    "                    func     = pbm.cost,\n",
    "                    fprime   = pbm.dCost_dx,\n",
    "                    f_eqcons = pbm.constraint,\n",
    "                    fprime_eqcons = pbm.dConstraint_dx,\n",
    "                    bounds   = pbm.bounds,\n",
    "                    callback = pbm.callback)\n",
    "qopt = a2m(result)\n"
   ]
  },
  {
   "cell_type": "markdown",
   "metadata": {},
   "source": [
    "# Derivatives in T_q Q\n",
    "If you want to go further, you can start investigate the derivatives in a configuration manifold (nonEuclidean) with this example."
   ]
  },
  {
   "cell_type": "code",
   "execution_count": 23,
   "metadata": {},
   "outputs": [],
   "source": [
    "#%load bip6d_diff.py"
   ]
  }
 ],
 "metadata": {
  "kernelspec": {
   "display_name": "Python 2",
   "language": "python",
   "name": "python2"
  },
  "language_info": {
   "codemirror_mode": {
    "name": "ipython",
    "version": 2
   },
   "file_extension": ".py",
   "mimetype": "text/x-python",
   "name": "python",
   "nbconvert_exporter": "python",
   "pygments_lexer": "ipython2",
   "version": "2.7.12"
  }
 },
 "nbformat": 4,
 "nbformat_minor": 2
}
