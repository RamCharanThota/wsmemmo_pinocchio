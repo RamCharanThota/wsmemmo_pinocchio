{
 "cells": [
  {
   "cell_type": "markdown",
   "metadata": {},
   "source": [
    "# Basics of Pinocchio\n",
    "\n",
    "Welcome in Pinocchio, a C++ library with Python API to efficiently compute all the elements of the model of a rigid robot, and their derivatives. Pinocchio is nicely tailored for generating the motion of a robot using a optimization program. \n",
    "\n",
    "Let's start by loading and display the robot model."
   ]
  },
  {
   "cell_type": "code",
   "execution_count": 1,
   "metadata": {},
   "outputs": [],
   "source": [
    "import pinocchio\n",
    "import numpy as np\n",
    "from numpy.linalg import norm,inv,pinv,svd,eig"
   ]
  },
  {
   "cell_type": "markdown",
   "metadata": {},
   "source": [
    "You can always alias the long pinocchio namespace to something shorter like pino. In the tuto, we keep the long name for clarity, feel free to shorten it."
   ]
  },
  {
   "cell_type": "markdown",
   "metadata": {},
   "source": [
    "## Loading the robot\n",
    "\n",
    "Pinocchio offers several possibilities to load the model of the robot as a kinematic tree of joints, masses, geometry object and other informative tree \"decoration\": the most classical is to parse the information from a URDF model. Here we will work with the Talos models: a fixed arm and a pair of floating leg. The collection of Talos models can be downloaded in Ubuntu with the APT package *robotpkg-talos-data*."
   ]
  },
  {
   "cell_type": "code",
   "execution_count": 4,
   "metadata": {},
   "outputs": [
    {
     "name": "stdout",
     "output_type": "stream",
     "text": [
      "Nb joints = 8 (nq=7,nv=7)\n",
      "  Joint universe: parent=0\n",
      "  Joint arm_left_2_joint: parent=0\n",
      "  Joint arm_left_3_joint: parent=1\n",
      "  Joint arm_left_4_joint: parent=2\n",
      "  Joint arm_left_5_joint: parent=3\n",
      "  Joint arm_left_6_joint: parent=4\n",
      "  Joint arm_left_7_joint: parent=5\n",
      "  Joint gripper_left_joint: parent=6\n",
      "\n"
     ]
    }
   ],
   "source": [
    "urdfFile = '/opt/openrobots/share/talos_data/robots/talos_left_arm.urdf'\n",
    "rmodel = pinocchio.buildModelFromUrdf(urdfFile)\n",
    "print(rmodel)"
   ]
  },
  {
   "cell_type": "markdown",
   "metadata": {},
   "source": [
    "This model as 7 joints, with a configuration space of dimension nq=7. Let's browse quickly the content of the kinematic tree.\n",
    "In Pinocchio, we do not store explicitly bodies, but the placement of the joint frame, needed to compute the forward kinematics. We name \"universe\" the first joint frame, and then name each other frame from the name of the joint. Joint information are then stored with the same numbers, 0 being the universe, 1 the first joint, etc until 8 the last joint."
   ]
  },
  {
   "cell_type": "code",
   "execution_count": 5,
   "metadata": {},
   "outputs": [
    {
     "name": "stdout",
     "output_type": "stream",
     "text": [
      "(0, 'universe')\n",
      "(1, 'arm_left_2_joint')\n",
      "(2, 'arm_left_3_joint')\n",
      "(3, 'arm_left_4_joint')\n",
      "(4, 'arm_left_5_joint')\n",
      "(5, 'arm_left_6_joint')\n",
      "(6, 'arm_left_7_joint')\n",
      "(7, 'gripper_left_joint')\n"
     ]
    }
   ],
   "source": [
    "for i,j in enumerate(rmodel.names): print(i,j)"
   ]
  },
  {
   "cell_type": "markdown",
   "metadata": {},
   "source": [
    "We do our best to keep the names of the URDF file, but as we do not have exactly the same convention for representing the kinematic tree, sometime information are not stored.\n",
    "Contrary to URDF, our tree is made only of joint. The kinematic order is stored in the parent map rmodel.parent. The type of the joints (revolute X, free flyer, spherical, prismatic, etc) are stored in the rmodel.joints map. Each joint is placed (ie position and orientation) with respect to its parent, and the placement is stored in rmodel.placement."
   ]
  },
  {
   "cell_type": "code",
   "execution_count": 11,
   "metadata": {},
   "outputs": [
    {
     "name": "stdout",
     "output_type": "stream",
     "text": [
      "(0, JointModelRX\n",
      "  index: 18446744073709551615\n",
      "  index q: -1\n",
      "  index v: -1\n",
      "  nq: 1\n",
      "  nv: 1\n",
      ", 'parent=0',   R =\n",
      "1 0 0\n",
      "0 1 0\n",
      "0 0 1\n",
      "  p = 0 0 0\n",
      ")\n",
      "(1, JointModelRX\n",
      "  index: 18446744073709551615\n",
      "  index q: -1\n",
      "  index v: -1\n",
      "  nq: 1\n",
      "  nv: 1\n",
      ", 'parent=0',   R =\n",
      "1 0 0\n",
      "0 1 0\n",
      "0 0 1\n",
      "  p = 0.00493  0.1365 0.04673\n",
      ")\n",
      "(2, JointModelRZ\n",
      "  index: 18446744073709551615\n",
      "  index q: -1\n",
      "  index v: -1\n",
      "  nq: 1\n",
      "  nv: 1\n",
      ", 'parent=1',   R =\n",
      "1 0 0\n",
      "0 1 0\n",
      "0 0 1\n",
      "  p = 0 0 0\n",
      ")\n",
      "(3, JointModelRY\n",
      "  index: 18446744073709551615\n",
      "  index q: -1\n",
      "  index v: -1\n",
      "  nq: 1\n",
      "  nv: 1\n",
      ", 'parent=2',   R =\n",
      "1 0 0\n",
      "0 1 0\n",
      "0 0 1\n",
      "  p =   0.02      0 -0.273\n",
      ")\n",
      "(4, JointModelRZ\n",
      "  index: 18446744073709551615\n",
      "  index q: -1\n",
      "  index v: -1\n",
      "  nq: 1\n",
      "  nv: 1\n",
      ", 'parent=3',   R =\n",
      "1 0 0\n",
      "0 1 0\n",
      "0 0 1\n",
      "  p =   -0.02       0 -0.2643\n",
      ")\n",
      "(5, JointModelRX\n",
      "  index: 18446744073709551615\n",
      "  index q: -1\n",
      "  index v: -1\n",
      "  nq: 1\n",
      "  nv: 1\n",
      ", 'parent=4',   R =\n",
      "1 0 0\n",
      "0 1 0\n",
      "0 0 1\n",
      "  p = 0 0 0\n",
      ")\n",
      "(6, JointModelRY\n",
      "  index: 18446744073709551615\n",
      "  index q: -1\n",
      "  index v: -1\n",
      "  nq: 1\n",
      "  nv: 1\n",
      ", 'parent=5',   R =\n",
      "1 0 0\n",
      "0 1 0\n",
      "0 0 1\n",
      "  p = 0 0 0\n",
      ")\n",
      "(7, JointModelRX\n",
      "  index: 18446744073709551615\n",
      "  index q: -1\n",
      "  index v: -1\n",
      "  nq: 1\n",
      "  nv: 1\n",
      ", 'parent=6',   R =\n",
      "1 0 0\n",
      "0 1 0\n",
      "0 0 1\n",
      "  p =         0   0.02025 -0.122475\n",
      ")\n"
     ]
    }
   ],
   "source": [
    "for i,(j,p,M) in enumerate(zip(rmodel.joints,rmodel.parents,rmodel.jointPlacements)): \n",
    "    print(i,j,\"parent=%d\"%p,M)"
   ]
  },
  {
   "cell_type": "markdown",
   "metadata": {},
   "source": [
    "Masses and inertias are also stored, along with other informations we will discuss later. The dimension of the configuration space is denoted rmodel.nq, while the number of degrees of freedom is rmodel.nv (sometime, nq>nv, here both are equals). The number of joints is given by rmodel.njoints: here as all joints have dimension 1 and we must account for the universe, we have njoints=nq+1."
   ]
  },
  {
   "cell_type": "code",
   "execution_count": 18,
   "metadata": {},
   "outputs": [
    {
     "name": "stdout",
     "output_type": "stream",
     "text": [
      "(7, 7, 8)\n"
     ]
    }
   ],
   "source": [
    "print(rmodel.nq,rmodel.nv,rmodel.njoints)"
   ]
  },
  {
   "cell_type": "markdown",
   "metadata": {},
   "source": [
    "## The convenient RobotWrapper and the display\n",
    "Most of the Python API simply copy the C++ API. We are using Boost::Python to simply copy the API from C++ to Python, with minor re-arragement.\n",
    "Only a helper object has been introduced in Python to make the life of the newcommer easier: the RobotWrapper. It is in particular helpful to load completely the model and display it in Gepetto-Viewer. RobotWrapper loads the URDF model but also loads the geometry models for the display and the collision checker. For that, it needs some extra path information that are gathered in the robots.py. Go and have a look at it."
   ]
  },
  {
   "cell_type": "code",
   "execution_count": 21,
   "metadata": {},
   "outputs": [
    {
     "name": "stdout",
     "output_type": "stream",
     "text": [
      "Nb joints = 8 (nq=7,nv=7)\n",
      "  Joint universe: parent=0\n",
      "  Joint arm_left_2_joint: parent=0\n",
      "  Joint arm_left_3_joint: parent=1\n",
      "  Joint arm_left_4_joint: parent=2\n",
      "  Joint arm_left_5_joint: parent=3\n",
      "  Joint arm_left_6_joint: parent=4\n",
      "  Joint arm_left_7_joint: parent=5\n",
      "  Joint gripper_left_joint: parent=6\n",
      "\n"
     ]
    }
   ],
   "source": [
    "import robots\n",
    "robot = robots.loadTalosArm()\n",
    "print(robot.model)"
   ]
  },
  {
   "cell_type": "markdown",
   "metadata": {},
   "source": [
    "Finally, it loaded the same robot model than before, but also did other interresting parsing, that we will discover later. Using the extra info we can initialize the display. Start gepetto-gui from a terminal (it has been installed from the 2 packages robotpkg-gepetto-viewer-corba and robotpkg-osg-dae). Gepetto-gui starts a graphic server, and we will open a client to this server in Python using the method implemented in RobotWrapper:"
   ]
  },
  {
   "cell_type": "code",
   "execution_count": 26,
   "metadata": {},
   "outputs": [],
   "source": [
    "robot.initDisplay(loadModel=True)"
   ]
  },
  {
   "cell_type": "markdown",
   "metadata": {},
   "source": [
    "You can see in the GUI window that a blue world has been loaded, with all the meshes of the robot stacked in the middle of the scene. Gepetto-viewer is indeed a rigid-object viewer, that display each mesh at a given placement (gepetto-viewer has no idea of the kinematic chain). You then need pinocchio to compute the placement of all the bodies and place them at the right position and orientation. This is all done in RobotWrapper. "
   ]
  },
  {
   "cell_type": "code",
   "execution_count": 27,
   "metadata": {},
   "outputs": [],
   "source": [
    "robot.display(robot.q0)"
   ]
  },
  {
   "cell_type": "markdown",
   "metadata": {},
   "source": [
    "where robot.q0 is a configuration of the robot. RobotWrapper was designed initially as a reference example where a newcommer can pick basic ways of using Pinocchio. Don't hesitate to go inside this Python file and have a look at how it is done. \n",
    "The robot configuration can be changed in Gepetto-viewer with:"
   ]
  },
  {
   "cell_type": "code",
   "execution_count": 29,
   "metadata": {},
   "outputs": [],
   "source": [
    "from pinocchio.utils import rand,zero,eye\n",
    "robot.display(rand(robot.model.nq)*2-1)"
   ]
  },
  {
   "cell_type": "markdown",
   "metadata": {},
   "source": [
    "## Spatial algebra\n",
    "The scene, and later the movement and forces in the scene are modeled following Featherstone's Spatial Algebra. Placement, i.e. rotation and translation of frames (and bodies) are stored in objects of the class SE3. Rigid velocities and acceleration are stored in the class Motion, forces in the class Forces and masses/inertias in the class Inertias."
   ]
  },
  {
   "cell_type": "code",
   "execution_count": 30,
   "metadata": {},
   "outputs": [
    {
     "name": "stdout",
     "output_type": "stream",
     "text": [
      "(  R =\n",
      " 0.444451 -0.414554  0.794109\n",
      " 0.175408 -0.829041 -0.530964\n",
      " 0.878462  0.375281 -0.295751\n",
      "  p =  0.257742 -0.270431 0.0268018\n",
      ",   v = 0.904459  0.83239 0.271423\n",
      "  w =  0.434594 -0.716795  0.213938\n",
      ",   f = -0.967399 -0.514226 -0.725537\n",
      "tau =  0.608354 -0.686642 -0.198111\n",
      ",   m = 1.04857\n",
      "  c =   0.22528 -0.407937  0.275105\n",
      "  I = \n",
      "  1.47786 -0.215983 0.0148097\n",
      "-0.215983   1.60849  0.484213\n",
      "0.0148097  0.484213  0.778174)\n"
     ]
    }
   ],
   "source": [
    "from pinocchio import SE3,Motion,Force,Inertia\n",
    "M = SE3.Random()\n",
    "nu = Motion.Random()\n",
    "phi = Force.Random()\n",
    "Y = Inertia.Random()\n",
    "print(M,nu,phi,Y)\n"
   ]
  },
  {
   "cell_type": "markdown",
   "metadata": {},
   "source": [
    "These objects store linear and angular part asside, but we often have to come back to a plain vector/matrix representation. In that case, contrary to Featherstone, we rather store linear part first and angular second."
   ]
  },
  {
   "cell_type": "code",
   "execution_count": 32,
   "metadata": {},
   "outputs": [
    {
     "name": "stdout",
     "output_type": "stream",
     "text": [
      "(  v = 0.904459  0.83239 0.271423\n",
      "  w =  0.434594 -0.716795  0.213938\n",
      ", matrix([[ 0.90445945,  0.83239014,  0.27142346,  0.43459386, -0.71679489,\n",
      "          0.21393775]]))\n"
     ]
    }
   ],
   "source": [
    "print(nu,nu.vector.T)"
   ]
  },
  {
   "cell_type": "markdown",
   "metadata": {},
   "source": [
    "# Forward kinematics: the first algorithm\n",
    "## Model and data\n",
    "Before calling the algorithm, let's introduce a specificity of Pinocchio: the strict separation between constant model element in the Model class, and all the buffers for storing algorithm quantities in the Data class. "
   ]
  },
  {
   "cell_type": "code",
   "execution_count": 34,
   "metadata": {},
   "outputs": [
    {
     "name": "stdout",
     "output_type": "stream",
     "text": [
      "<pinocchio.libpinocchio_pywrap.Data object at 0x2cee090>\n"
     ]
    }
   ],
   "source": [
    "rdata = rmodel.createData()"
   ]
  },
  {
   "cell_type": "markdown",
   "metadata": {},
   "source": [
    "The RobotWrapper creates a Data object by default:"
   ]
  },
  {
   "cell_type": "code",
   "execution_count": 35,
   "metadata": {},
   "outputs": [
    {
     "name": "stdout",
     "output_type": "stream",
     "text": [
      "<pinocchio.libpinocchio_pywrap.Data object at 0x30da4b0>\n"
     ]
    }
   ],
   "source": [
    "print(robot.data)"
   ]
  },
  {
   "cell_type": "markdown",
   "metadata": {},
   "source": [
    "The idea is that the same model can be used by different part of the algorithm to compute different values from different argument. For example, in a optimal-control implementation of Pinocchio, you likely want to have a single robot model for all your problem, but several data for each node of your optimal control solver. In the tuto, we will for example use the fact that the numerical algorithm has its own Data, while the RobotWrapper use another Data for computing body placements when displaying something."
   ]
  },
  {
   "cell_type": "markdown",
   "metadata": {},
   "source": [
    "## Calling the algorithm implementation\n",
    "The forward kinematics simply compute the placement of every joint frame for a given configuration q. "
   ]
  },
  {
   "cell_type": "code",
   "execution_count": 39,
   "metadata": {},
   "outputs": [
    {
     "name": "stdout",
     "output_type": "stream",
     "text": [
      "(0,   R =\n",
      "        1         0         0\n",
      "        0  0.910158 -0.414261\n",
      "        0  0.414261  0.910158\n",
      "  p = 0.00493  0.1365 0.04673\n",
      ")\n",
      "(1,   R =\n",
      "  0.57594 -0.817492         0\n",
      " 0.744047  0.524196 -0.414261\n",
      " 0.338655   0.23859  0.910158\n",
      "  p = 0.00493  0.1365 0.04673\n",
      ")\n",
      "(2,   R =\n",
      " 0.333886 -0.817492  0.469284\n",
      " 0.768887  0.524196  0.366103\n",
      "-0.545283   0.23859  0.803581\n",
      "  p = 0.0164488  0.264474  -0.19497\n",
      ")\n",
      "(3,   R =\n",
      " 0.234284 -0.851401  0.469284\n",
      " 0.825776  0.429025  0.366103\n",
      "-0.513035  0.301751  0.803581\n",
      "  p = -0.114261  0.152336 -0.396451\n",
      ")\n",
      "(4,   R =\n",
      " 0.234284 -0.628908  0.741341\n",
      " 0.825776  0.531161  0.189636\n",
      "-0.513035  0.567753   0.64378\n",
      "  p = -0.114261  0.152336 -0.396451\n",
      ")\n",
      "(5,   R =\n",
      " -0.23867 -0.628908   0.73994\n",
      " 0.563092  0.531161  0.633084\n",
      "-0.791179  0.567753  0.227361\n",
      "  p = -0.114261  0.152336 -0.396451\n",
      ")\n",
      "(6,   R =\n",
      "  -0.23867  -0.321799   0.916232\n",
      "  0.563092   0.722831   0.400553\n",
      " -0.791179   0.611523 0.00868463\n",
      "  p =  -0.21762 0.0855547   -0.4128\n",
      ")\n"
     ]
    }
   ],
   "source": [
    "q = rand(rmodel.nq)\n",
    "pinocchio.forwardKinematics(rmodel,rdata,q)\n",
    "for i,M in enumerate(rdata.oMi[1:]): print(i,M)"
   ]
  },
  {
   "cell_type": "markdown",
   "metadata": {},
   "source": [
    "When calling forwardKinematics, the model rmodel has not been changed, while the results of the algorithm have been stored in the robot Data. Some algorithm have a main result that is returned by the algorithm (like for example crba that returns the robot mass matrix), but in general the main algorithm results are just several changes in the tables stored in robot Data.\n",
    "\n",
    "## Computing the end-effector position\n",
    "In a first time, we want to control the end effector position (3D). It is given by:"
   ]
  },
  {
   "cell_type": "code",
   "execution_count": 41,
   "metadata": {},
   "outputs": [
    {
     "name": "stdout",
     "output_type": "stream",
     "text": [
      "('End effector = ', matrix([[-0.21762018,  0.08555466, -0.41279973]]))\n"
     ]
    }
   ],
   "source": [
    "print(\"End effector = \" , rdata.oMi[-1].translation.T)"
   ]
  },
  {
   "cell_type": "markdown",
   "metadata": {},
   "source": [
    "# Optimizing the end effector position\n",
    "We can now set up the first optimization problem that compute a robot configuration minimizing the distance between the position of the end-effector and a 3D target. \n",
    "For that we will use the fmin_slsqp from SciPy. You need to define the cost function cost(q) that returns a scalar measuring this distance. Beware of a painful implementation detail!\n",
    "## The classes Matrix and Array of NumPy\n",
    "NumPy implements matrices and vectors with the class np.array, represented as tensors i.e N-D tables, where vectors would be N=1, matrices N=2. Tensor product, that boils down to Matrix-Vector and Matrix-Matrix products in the corresponding dimension, is obtained with the np.dot operator : np.dot(A,x) to multiply $A*x$. The multiplication operator is not the matrix product but the coefficient-wise product.\n",
    "\n",
    "On the other hand, NumPy also introduces the class Matrix as a specific implementation of the 2-D array, and overload the __ mult __ operator to match the matrix operator, hence $A*x$ is directly obtain with the \\* symbol.\n",
    "\n",
    "Pinocchio has been implemented with the Matrix class. Any other Python package is rather implemented with the Array class. In particular, the SciPy optimizers are with Array. So, we will painfully have to convert array to matrix before calling Pinocchio algorithms, and back to array when returning the results to the optimizer. \n"
   ]
  },
  {
   "cell_type": "code",
   "execution_count": 42,
   "metadata": {},
   "outputs": [],
   "source": [
    "m2a = lambda m: np.array(m.flat)\n",
    "a2m = lambda a: np.matrix(a).T"
   ]
  },
  {
   "cell_type": "markdown",
   "metadata": {},
   "source": [
    "## Cost function\n",
    "That said, the cost function simply has to call forwardKinematics, and return the difference between the computed effector position and a reference."
   ]
  },
  {
   "cell_type": "code",
   "execution_count": 44,
   "metadata": {},
   "outputs": [
    {
     "name": "stdout",
     "output_type": "stream",
     "text": [
      "0.9821014346907664\n"
     ]
    }
   ],
   "source": [
    "ref = np.matrix([.3,.3,.3]).T\n",
    "def cost(x):\n",
    "    q = a2m(x)\n",
    "    pinocchio.forwardKinematics(rmodel,rdata,q)\n",
    "    M = rdata.oMi[-1]\n",
    "    p = M.translation\n",
    "    residuals = m2a(p-ref)\n",
    "    return sum( residuals**2)\n",
    "x0 = np.random.rand(rmodel.nq)\n",
    "print(cost(x0))"
   ]
  },
  {
   "cell_type": "markdown",
   "metadata": {},
   "source": [
    "## FMin\n",
    "The optimizer chosen for the class is SLSQP which is a SQP accepting equality, inequality and bound constraints, using BFGS for quasi-newton acceleration and a least-square QP for computing the Newton step. It is quite a good solver, although not strong enough for implementing real robotics application. It is yet quite comfortable for a class to have access to it through the easy package SciPy.\n",
    "The API of slsqp is as follows:"
   ]
  },
  {
   "cell_type": "code",
   "execution_count": 48,
   "metadata": {},
   "outputs": [
    {
     "name": "stdout",
     "output_type": "stream",
     "text": [
      "Help on function fmin_slsqp in module scipy.optimize.slsqp:\n",
      "\n",
      "fmin_slsqp(func, x0, eqcons=(), f_eqcons=None, ieqcons=(), f_ieqcons=None, bounds=(), fprime=None, fprime_eqcons=None, fprime_ieqcons=None, args=(), iter=100, acc=1e-06, iprint=1, disp=None, full_output=0, epsilon=1.4901161193847656e-08, callback=None)\n",
      "    Minimize a function using Sequential Least SQuares Programming\n",
      "    \n",
      "    Python interface function for the SLSQP Optimization subroutine\n",
      "    originally implemented by Dieter Kraft.\n",
      "    \n",
      "    Parameters\n",
      "    ----------\n",
      "    func : callable f(x,*args)\n",
      "        Objective function.\n",
      "    x0 : 1-D ndarray of float\n",
      "        Initial guess for the independent variable(s).\n",
      "    eqcons : list, optional\n",
      "        A list of functions of length n such that\n",
      "        eqcons[j](x,*args) == 0.0 in a successfully optimized\n",
      "        problem.\n",
      "    f_eqcons : callable f(x,*args), optional\n",
      "        Returns a 1-D array in which each element must equal 0.0 in a\n",
      "        successfully optimized problem.  If f_eqcons is specified,\n",
      "        eqcons is ignored.\n",
      "    ieqcons : list, optional\n",
      "        A list of functions of length n such that\n",
      "        ieqcons[j](x,*args) >= 0.0 in a successfully optimized\n",
      "        problem.\n",
      "    f_ieqcons : callable f(x,*args), optional\n",
      "        Returns a 1-D ndarray in which each element must be greater or\n",
      "        equal to 0.0 in a successfully optimized problem.  If\n",
      "        f_ieqcons is specified, ieqcons is ignored.\n",
      "    bounds : list, optional\n",
      "        A list of tuples specifying the lower and upper bound\n",
      "        for each independent variable [(xl0, xu0),(xl1, xu1),...]\n",
      "        Infinite values will be interpreted as large floating values.\n",
      "    fprime : callable `f(x,*args)`, optional\n",
      "        A function that evaluates the partial derivatives of func.\n",
      "    fprime_eqcons : callable `f(x,*args)`, optional\n",
      "        A function of the form `f(x, *args)` that returns the m by n\n",
      "        array of equality constraint normals.  If not provided,\n",
      "        the normals will be approximated. The array returned by\n",
      "        fprime_eqcons should be sized as ( len(eqcons), len(x0) ).\n",
      "    fprime_ieqcons : callable `f(x,*args)`, optional\n",
      "        A function of the form `f(x, *args)` that returns the m by n\n",
      "        array of inequality constraint normals.  If not provided,\n",
      "        the normals will be approximated. The array returned by\n",
      "        fprime_ieqcons should be sized as ( len(ieqcons), len(x0) ).\n",
      "    args : sequence, optional\n",
      "        Additional arguments passed to func and fprime.\n",
      "    iter : int, optional\n",
      "        The maximum number of iterations.\n",
      "    acc : float, optional\n",
      "        Requested accuracy.\n",
      "    iprint : int, optional\n",
      "        The verbosity of fmin_slsqp :\n",
      "    \n",
      "        * iprint <= 0 : Silent operation\n",
      "        * iprint == 1 : Print summary upon completion (default)\n",
      "        * iprint >= 2 : Print status of each iterate and summary\n",
      "    disp : int, optional\n",
      "        Over-rides the iprint interface (preferred).\n",
      "    full_output : bool, optional\n",
      "        If False, return only the minimizer of func (default).\n",
      "        Otherwise, output final objective function and summary\n",
      "        information.\n",
      "    epsilon : float, optional\n",
      "        The step size for finite-difference derivative estimates.\n",
      "    callback : callable, optional\n",
      "        Called after each iteration, as ``callback(x)``, where ``x`` is the\n",
      "        current parameter vector.\n",
      "    \n",
      "    Returns\n",
      "    -------\n",
      "    out : ndarray of float\n",
      "        The final minimizer of func.\n",
      "    fx : ndarray of float, if full_output is true\n",
      "        The final value of the objective function.\n",
      "    its : int, if full_output is true\n",
      "        The number of iterations.\n",
      "    imode : int, if full_output is true\n",
      "        The exit mode from the optimizer (see below).\n",
      "    smode : string, if full_output is true\n",
      "        Message describing the exit mode from the optimizer.\n",
      "    \n",
      "    See also\n",
      "    --------\n",
      "    minimize: Interface to minimization algorithms for multivariate\n",
      "        functions. See the 'SLSQP' `method` in particular.\n",
      "    \n",
      "    Notes\n",
      "    -----\n",
      "    Exit modes are defined as follows ::\n",
      "    \n",
      "        -1 : Gradient evaluation required (g & a)\n",
      "         0 : Optimization terminated successfully.\n",
      "         1 : Function evaluation required (f & c)\n",
      "         2 : More equality constraints than independent variables\n",
      "         3 : More than 3*n iterations in LSQ subproblem\n",
      "         4 : Inequality constraints incompatible\n",
      "         5 : Singular matrix E in LSQ subproblem\n",
      "         6 : Singular matrix C in LSQ subproblem\n",
      "         7 : Rank-deficient equality constraint subproblem HFTI\n",
      "         8 : Positive directional derivative for linesearch\n",
      "         9 : Iteration limit exceeded\n",
      "    \n",
      "    Examples\n",
      "    --------\n",
      "    Examples are given :ref:`in the tutorial <tutorial-sqlsp>`.\n",
      "\n"
     ]
    }
   ],
   "source": [
    "from scipy.optimize import fmin_slsqp\n",
    "help(fmin_slsqp)"
   ]
  },
  {
   "cell_type": "markdown",
   "metadata": {},
   "source": [
    "Here we only use the initial guess and the cost function."
   ]
  },
  {
   "cell_type": "code",
   "execution_count": 50,
   "metadata": {},
   "outputs": [
    {
     "name": "stdout",
     "output_type": "stream",
     "text": [
      "Optimization terminated successfully.    (Exit mode 0)\n",
      "            Current function value: 1.8019119356477975e-07\n",
      "            Iterations: 12\n",
      "            Function evaluations: 108\n",
      "            Gradient evaluations: 12\n"
     ]
    }
   ],
   "source": [
    "result = fmin_slsqp(x0=np.zeros(rmodel.nq),\n",
    "                    func=cost)"
   ]
  },
  {
   "cell_type": "code",
   "execution_count": 51,
   "metadata": {},
   "outputs": [],
   "source": [
    "qopt = a2m(result)\n",
    "robot.display(qopt)"
   ]
  },
  {
   "cell_type": "markdown",
   "metadata": {},
   "source": [
    "## Using the viewer to interpret the solver\n",
    "Let's use the viewer to see what the solver is doing.\n",
    "First, let's add a visual object to mark the target."
   ]
  },
  {
   "cell_type": "code",
   "execution_count": 64,
   "metadata": {},
   "outputs": [],
   "source": [
    "gview = robot.viewer.gui\n",
    "gview.addSphere('world/target',0.1,[1.,0.,0.,1.]) # radius, [R,G,B,A]\n",
    "gview.applyConfiguration('world/target',[.3,.3,.3,0.,0.,0.,1.]) # x,y,z,quaternion\n",
    "gview.refresh()"
   ]
  },
  {
   "cell_type": "markdown",
   "metadata": {},
   "source": [
    "Gepetto-viewer accepts many types of simple 3d geom (see the /opt/openrobots/share/idl/gepetto/corbaserver/graphical-interface.idl API for a list), and wait for the \"refresh\" order before placing all of them.\n",
    "\n",
    "We can also change the robot configuration while the solver works, to render the current guess of the algorithm. For that, slsqp offers the callback interface."
   ]
  },
  {
   "cell_type": "code",
   "execution_count": 67,
   "metadata": {},
   "outputs": [
    {
     "name": "stdout",
     "output_type": "stream",
     "text": [
      "Optimization terminated successfully.    (Exit mode 0)\n",
      "            Current function value: 1.8019119356477975e-07\n",
      "            Iterations: 12\n",
      "            Function evaluations: 108\n",
      "            Gradient evaluations: 12\n"
     ]
    }
   ],
   "source": [
    "def callbackDisp(x):\n",
    "    import time\n",
    "    q = a2m(x)\n",
    "    robot.display(q)\n",
    "    time.sleep(.1)\n",
    "result = fmin_slsqp(x0=np.zeros(rmodel.nq),\n",
    "                    func=cost,\n",
    "                    callback=callbackDisp)"
   ]
  },
  {
   "cell_type": "markdown",
   "metadata": {},
   "source": [
    "# The complete program\n",
    "In general, it is recommanded to store all interesting information and data related to the optimization program inside a dedicated object, whose paramaters are initialized in the constructer. Then the cost (and later constraint, callback, etc) functions are object methods. A complete implementation of the 3D example is given in arm3d.py"
   ]
  },
  {
   "cell_type": "code",
   "execution_count": null,
   "metadata": {},
   "outputs": [],
   "source": [
    "# %load arm3d.py\n",
    "from robots import loadTalosArm\n",
    "from scipy.optimize import fmin_slsqp\n",
    "import pinocchio\n",
    "from pinocchio.utils import *\n",
    "from numpy.linalg import norm,inv,pinv,eig,svd\n",
    "\n",
    "m2a = lambda m: np.array(m.flat)\n",
    "a2m = lambda a: np.matrix(a).T\n",
    "\n",
    "robot   = loadTalosArm()\n",
    "robot.initDisplay(loadModel=True)\n",
    "\n",
    "class OptimProblem:\n",
    "    def __init__(self,rmodel,rdata,gview=None):\n",
    "        self.rmodel = rmodel\n",
    "        self.rdata = rdata\n",
    "        self.ref = [ .3, 0.3, 0.3 ]     # Target position\n",
    "        self.idEff = -1                 # ID of the robot object to control\n",
    "\n",
    "    def cost3(self,x):\n",
    "        q = a2m(x)\n",
    "        pinocchio.forwardKinematics(self.rmodel,self.rdata,q)\n",
    "        M = self.rdata.oMi[self.idEff]\n",
    "        self.residuals = m2a(M.translation) - self.ref\n",
    "        return sum( self.residuals**2 )\n",
    "\n",
    "    def initDisplay(self,gview=None):\n",
    "        self.gview = gview\n",
    "        if gview is None: return\n",
    "        self.gobj = \"world/target3d\"\n",
    "        self.gview.addSphere(self.gobj,.03,[1,0,0,1])\n",
    "        self.gview.applyConfiguration(self.gobj,self.ref+[0,0,0,1])\n",
    "        self.gview.refresh()\n",
    "\n",
    "    def callback(self,x):\n",
    "        import time\n",
    "        q = a2m(x)\n",
    "        robot.display(q)\n",
    "        time.sleep(1e-2)\n",
    "\n",
    "pbm = OptimProblem(robot.model,robot.model.createData(),robot.viewer.gui)\n",
    "\n",
    "x0  = m2a(robot.q0)\n",
    "result = fmin_slsqp(x0=x0,\n",
    "                    func=pbm.cost3,\n",
    "                    callback=pbm.callback)\n",
    "qopt = a2m(result)\n"
   ]
  },
  {
   "cell_type": "markdown",
   "metadata": {},
   "source": [
    "# Optimization of the effector placement\n",
    "The forward kinematics indeed computes the placement of the last frame, i.e the rotation R and the translation p, denoted M = \\[R,p\\] $\\in SE(3)$.\n",
    "We need to define a metric to score the distance between to frames $M_1$ and $M_2$. Several metrics can be chosen, but a nice one is given by the SE3 logarithm function, that converts the gap between two frames into the velocity that should applied (constant) during t=1 to bridge the gap a displace $M_1$ into $M_2$.  "
   ]
  },
  {
   "cell_type": "code",
   "execution_count": 74,
   "metadata": {},
   "outputs": [
    {
     "name": "stdout",
     "output_type": "stream",
     "text": [
      "(  v =  0.565222 -0.815087  0.418248\n",
      "  w =  0.499815  0.564272 -0.207136\n",
      ", matrix([[ 0.5652219 , -0.81508665,  0.41824769,  0.4998151 ,  0.56427201,\n",
      "         -0.20713564]]))\n"
     ]
    }
   ],
   "source": [
    "M1 = SE3.Random()\n",
    "M2 = SE3.Random()\n",
    "nu = pinocchio.log(M1.inverse()*M2)\n",
    "print(nu,nu.vector.T)"
   ]
  },
  {
   "cell_type": "markdown",
   "metadata": {},
   "source": [
    "The norm of the logarithm is a proper cost function: it is 0 if and only if the two frames matches, and positive otherwise ; it is smooth; compare to other fancy metrics, it is easy to differenciate (at least, there are some well founded rules to differentiate the logarithm and related operators).\n",
    "\n",
    "Modify the program above to search for the robot configuration so that the end effector is placed at a reference position and orientation (solution only if need be). "
   ]
  },
  {
   "cell_type": "code",
   "execution_count": 75,
   "metadata": {},
   "outputs": [],
   "source": [
    "# %load arm6d.py"
   ]
  },
  {
   "cell_type": "markdown",
   "metadata": {},
   "source": [
    "# Frames"
   ]
  },
  {
   "cell_type": "markdown",
   "metadata": {},
   "source": [
    "We already said that the kinematic tree is composed of a hierarchy of frames corresponding to the output of each joint. In practice, we find it useful to attach additional frames to these main frames. We name the main frames defining the kinematic tree by Joint Frames, stored in rdata.oMi. The other frames are described in the model by the rmodel.frames list, each object storing its name, the index of its parent joint frame and the fixed placement with respect to its parent.\n"
   ]
  },
  {
   "cell_type": "code",
   "execution_count": 77,
   "metadata": {},
   "outputs": [
    {
     "name": "stdout",
     "output_type": "stream",
     "text": [
      "(0, 'universe', 0, pinocchio.libpinocchio_pywrap.FrameType.FIXED_JOINT)\n",
      "(1, 'root_joint', 0, pinocchio.libpinocchio_pywrap.FrameType.FIXED_JOINT)\n",
      "(2, 'arm_left_1_link', 0, pinocchio.libpinocchio_pywrap.FrameType.BODY)\n",
      "(3, 'arm_left_2_joint', 1, pinocchio.libpinocchio_pywrap.FrameType.JOINT)\n",
      "(4, 'arm_left_2_link', 1, pinocchio.libpinocchio_pywrap.FrameType.BODY)\n",
      "(5, 'arm_left_3_joint', 2, pinocchio.libpinocchio_pywrap.FrameType.JOINT)\n",
      "(6, 'arm_left_3_link', 2, pinocchio.libpinocchio_pywrap.FrameType.BODY)\n",
      "(7, 'arm_left_4_joint', 3, pinocchio.libpinocchio_pywrap.FrameType.JOINT)\n",
      "(8, 'arm_left_4_link', 3, pinocchio.libpinocchio_pywrap.FrameType.BODY)\n",
      "(9, 'arm_left_5_joint', 4, pinocchio.libpinocchio_pywrap.FrameType.JOINT)\n",
      "(10, 'arm_left_5_link', 4, pinocchio.libpinocchio_pywrap.FrameType.BODY)\n",
      "(11, 'arm_left_6_joint', 5, pinocchio.libpinocchio_pywrap.FrameType.JOINT)\n",
      "(12, 'arm_left_6_link', 5, pinocchio.libpinocchio_pywrap.FrameType.BODY)\n",
      "(13, 'arm_left_7_joint', 6, pinocchio.libpinocchio_pywrap.FrameType.JOINT)\n",
      "(14, 'arm_left_7_link', 6, pinocchio.libpinocchio_pywrap.FrameType.BODY)\n",
      "(15, 'wrist_left_ft_joint', 6, pinocchio.libpinocchio_pywrap.FrameType.FIXED_JOINT)\n",
      "(16, 'wrist_left_ft_link', 6, pinocchio.libpinocchio_pywrap.FrameType.BODY)\n",
      "(17, 'wrist_left_tool_joint', 6, pinocchio.libpinocchio_pywrap.FrameType.FIXED_JOINT)\n",
      "(18, 'wrist_left_ft_tool_link', 6, pinocchio.libpinocchio_pywrap.FrameType.BODY)\n",
      "(19, 'gripper_left_base_link_joint', 6, pinocchio.libpinocchio_pywrap.FrameType.FIXED_JOINT)\n",
      "(20, 'gripper_left_base_link', 6, pinocchio.libpinocchio_pywrap.FrameType.BODY)\n",
      "(21, 'gripper_left_inner_double_joint', 6, pinocchio.libpinocchio_pywrap.FrameType.FIXED_JOINT)\n",
      "(22, 'gripper_left_inner_double_link', 6, pinocchio.libpinocchio_pywrap.FrameType.BODY)\n",
      "(23, 'gripper_left_fingertip_1_joint', 6, pinocchio.libpinocchio_pywrap.FrameType.FIXED_JOINT)\n",
      "(24, 'gripper_left_fingertip_1_link', 6, pinocchio.libpinocchio_pywrap.FrameType.BODY)\n",
      "(25, 'gripper_left_fingertip_2_joint', 6, pinocchio.libpinocchio_pywrap.FrameType.FIXED_JOINT)\n",
      "(26, 'gripper_left_fingertip_2_link', 6, pinocchio.libpinocchio_pywrap.FrameType.BODY)\n",
      "(27, 'gripper_left_inner_single_joint', 6, pinocchio.libpinocchio_pywrap.FrameType.FIXED_JOINT)\n",
      "(28, 'gripper_left_inner_single_link', 6, pinocchio.libpinocchio_pywrap.FrameType.BODY)\n",
      "(29, 'gripper_left_fingertip_3_joint', 6, pinocchio.libpinocchio_pywrap.FrameType.FIXED_JOINT)\n",
      "(30, 'gripper_left_fingertip_3_link', 6, pinocchio.libpinocchio_pywrap.FrameType.BODY)\n",
      "(31, 'gripper_left_joint', 7, pinocchio.libpinocchio_pywrap.FrameType.JOINT)\n",
      "(32, 'gripper_left_motor_double_link', 7, pinocchio.libpinocchio_pywrap.FrameType.BODY)\n",
      "(33, 'gripper_left_motor_single_joint', 6, pinocchio.libpinocchio_pywrap.FrameType.FIXED_JOINT)\n",
      "(34, 'gripper_left_motor_single_link', 6, pinocchio.libpinocchio_pywrap.FrameType.BODY)\n"
     ]
    }
   ],
   "source": [
    "for i,f in enumerate(rmodel.frames): print(i,f.name,f.parent)"
   ]
  },
  {
   "cell_type": "markdown",
   "metadata": {},
   "source": [
    "For convenience, we also describe if this frame was parsed as a body frame, a joint frame (yes, joint frames are copied again in the rmodel.frames list as it makes the access to frame more generic) or as fixed joints (that is a pretty classical trick in URDF. \n",
    "\n",
    "For example, the joint frame attached to the foot of a biped robot is often located at its ankle, i.e. 5 to 10 cm above the ground. We then also attach a second frame on the foot sole, to make it easier to write the contact constraints. And similarly for a quadruped, the last joint frame is at the knew, and we rather attach another frame at the tip of the leg.\n",
    "\n",
    "Frames are best indexed by their name:"
   ]
  },
  {
   "cell_type": "code",
   "execution_count": 79,
   "metadata": {},
   "outputs": [
    {
     "name": "stdout",
     "output_type": "stream",
     "text": [
      "26\n"
     ]
    }
   ],
   "source": [
    "fid = rmodel.getFrameId('gripper_left_fingertip_2_link')\n",
    "print(fid)"
   ]
  },
  {
   "cell_type": "markdown",
   "metadata": {},
   "source": [
    "The joint placement are stored in rdata.oMi. The frame placements are stored in rdata.oMf. By default, the forwardKinematics does not reevaluate the oMf. Do it with:"
   ]
  },
  {
   "cell_type": "code",
   "execution_count": 80,
   "metadata": {},
   "outputs": [],
   "source": [
    "pinocchio.updateFramePlacements(rmodel,rdata)"
   ]
  },
  {
   "cell_type": "markdown",
   "metadata": {},
   "source": [
    "Note that this method does not need q to evaluate the oMf from the oMi.\n",
    "\n",
    "Modify the above example to optimize the placement of the robot effector tip rather than its wrist."
   ]
  },
  {
   "cell_type": "markdown",
   "metadata": {},
   "source": [
    "# With joint limits\n",
    "The joint limits are also parsed from the URDF model and stored in rmodel.lowerLimit and rmodel.upperLimit."
   ]
  },
  {
   "cell_type": "code",
   "execution_count": 82,
   "metadata": {},
   "outputs": [
    {
     "name": "stdout",
     "output_type": "stream",
     "text": [
      "(matrix([[ 0.        , -2.44346095, -2.35619449, -2.53072742, -1.3962634 ,\n",
      "         -0.6981317 , -1.04719755]]), matrix([[2.87979327, 2.44346095, 0.        , 2.53072742, 1.3962634 ,\n",
      "         0.6981317 , 0.        ]]))\n"
     ]
    }
   ],
   "source": [
    "print(rmodel.lowerPositionLimit.T,rmodel.upperPositionLimit.T)"
   ]
  },
  {
   "cell_type": "markdown",
   "metadata": {},
   "source": [
    "fmin_slsqp accepts bound constraints as a list of 2-ples (lower,upper)."
   ]
  },
  {
   "cell_type": "code",
   "execution_count": 85,
   "metadata": {},
   "outputs": [],
   "source": [
    "bounds=[ (l,u) for l,u in zip(robot.model.lowerPositionLimit.flat,robot.model.upperPositionLimit.flat) ]"
   ]
  },
  {
   "cell_type": "markdown",
   "metadata": {},
   "source": [
    "# Constraint or cost\n",
    "We yet set up a cost whose optimum is reached at 0. In this case, we could equivalently set it up as a constraint, and possibly optimize a second objective like the posture. Let's do that know, as later we will need to play more with constraint and cost.\n",
    "\n",
    "## Constraints in slsqp\n",
    "Constraints should be implemented as function that returns an array of NC values, that should be 0 in a successful optimization. It seems that there is a problem in the numerical differencition scheme of slsqp that force the user to return a list of values instead of a array of value. \n",
    "\n",
    "## Posture cost under constraint terminal position\n",
    "Implement a new cost function that minimize the squared norm between the current configuration and a reference configuration, and turn the previous cost function into a constraint function that returns the list of x,y and z errors to a 3D position target.\n",
    "\n",
    "The 0 configuration stored in rmodel.neutralConfiguration can be used for a reference configuration.\n",
    "\n"
   ]
  },
  {
   "cell_type": "code",
   "execution_count": null,
   "metadata": {},
   "outputs": [],
   "source": [
    "%load arm3dconstraint.py"
   ]
  },
  {
   "cell_type": "markdown",
   "metadata": {},
   "source": [
    "# Non Euclidean configuration space\n",
    "\n",
    "The arm only has revolute joints, which are simple to model. Let's now move to the case where we have joints with 3D rotation, in particular the case of floating robots.\n",
    "\n",
    "A biped robot can be loaded from robots.py"
   ]
  },
  {
   "cell_type": "code",
   "execution_count": 89,
   "metadata": {},
   "outputs": [
    {
     "name": "stdout",
     "output_type": "stream",
     "text": [
      "Nb joints = 14 (nq=19,nv=18)\n",
      "  Joint universe: parent=0\n",
      "  Joint root_joint: parent=0\n",
      "  Joint leg_left_1_joint: parent=1\n",
      "  Joint leg_left_2_joint: parent=2\n",
      "  Joint leg_left_3_joint: parent=3\n",
      "  Joint leg_left_4_joint: parent=4\n",
      "  Joint leg_left_5_joint: parent=5\n",
      "  Joint leg_left_6_joint: parent=6\n",
      "  Joint leg_right_1_joint: parent=1\n",
      "  Joint leg_right_2_joint: parent=8\n",
      "  Joint leg_right_3_joint: parent=9\n",
      "  Joint leg_right_4_joint: parent=10\n",
      "  Joint leg_right_5_joint: parent=11\n",
      "  Joint leg_right_6_joint: parent=12\n",
      "\n"
     ]
    }
   ],
   "source": [
    "from robots import loadTalosLegs\n",
    "robot = loadTalosLegs()\n",
    "rmodel = robot.model ; rdata = rmodel.createData()\n",
    "print(robot.model)"
   ]
  },
  {
   "cell_type": "markdown",
   "metadata": {},
   "source": [
    "Each leg has 6 revolute joints, 12 joints in total, plus the free flyer joint that denotes the movements between a fixed \"universe\" frame and the root of the robot locate at the hip. The free flyer corresponds to 12 degrees of freedom but will be represented in Pinocchio with 3 translation and a unit quaternion, i.e. 7 parameters (and 1 constraint, the norm of quaternion should be one). In total, rmodel.nq is 19, while the number of degrees of freedom rmodel.nv is 18:"
   ]
  },
  {
   "cell_type": "code",
   "execution_count": 90,
   "metadata": {},
   "outputs": [
    {
     "name": "stdout",
     "output_type": "stream",
     "text": [
      "(19, 18)\n"
     ]
    }
   ],
   "source": [
    "print(rmodel.nq,rmodel.nv)"
   ]
  },
  {
   "cell_type": "markdown",
   "metadata": {},
   "source": [
    "It is now less direct to measure the distance between 2 configurations, randomly pick a configuration and locally change a configuration.\n",
    "## Randomly sampling a configuration\n",
    "Pinocchio implements the randomConfiguration algorithm to sample a configuration for a model where q is subject to constraints:"
   ]
  },
  {
   "cell_type": "code",
   "execution_count": 92,
   "metadata": {},
   "outputs": [
    {
     "name": "stdout",
     "output_type": "stream",
     "text": [
      "[[-0.86048945  0.89865415  0.0519907   0.3395308  -0.25082182 -0.15213238\n",
      "   0.89367946  0.78046521 -0.30221413 -0.87165736 -0.9599539  -0.08459653\n",
      "  -0.87380832 -0.52344009  0.94126826  0.80441615  0.70183957 -0.4666685\n",
      "   0.07952068]]\n"
     ]
    }
   ],
   "source": [
    "q = pinocchio.randomConfiguration(rmodel)\n",
    "print(q.T)"
   ]
  },
  {
   "cell_type": "markdown",
   "metadata": {},
   "source": [
    "## Distance and increment of configuration\n",
    "A velocity $v_q$ will have rmodel.nv dimension, while q as rmodel.nq>rmodel.nv dimension. It is not possible any more to add q+v. \n",
    "\n",
    "Pinocchio implements the integrate algorithm to add a displacement $v_q$ in the configuration space."
   ]
  },
  {
   "cell_type": "code",
   "execution_count": 97,
   "metadata": {},
   "outputs": [
    {
     "name": "stdout",
     "output_type": "stream",
     "text": [
      "((19, 1), (18, 1))\n"
     ]
    }
   ],
   "source": [
    "vq = rand(rmodel.nv)\n",
    "print(q.shape,vq.shape)\n",
    "qnext = pinocchio.integrate(rmodel,q,vq)"
   ]
  },
  {
   "cell_type": "markdown",
   "metadata": {},
   "source": [
    "We will measure a distance between two configurations $q_1$ and $q_2$ as the velocity to apply during t=1 to go from $q_1$ to $q_2$."
   ]
  },
  {
   "cell_type": "code",
   "execution_count": 99,
   "metadata": {},
   "outputs": [],
   "source": [
    "q1 = pinocchio.randomConfiguration(rmodel)\n",
    "q2 = pinocchio.randomConfiguration(rmodel)\n",
    "dq = pinocchio.difference(rmodel,q1,q2)"
   ]
  },
  {
   "cell_type": "markdown",
   "metadata": {},
   "source": [
    "## Working with optimization and quaternion: the problem\n",
    "If we let the solver optimize over a constrained q without notifying it, the algorithm will quickly comes to a q that does not respect the constraint hence is not an interesting solution.\n",
    "\n",
    "Try to think of the expected result before running the following algorithm."
   ]
  },
  {
   "cell_type": "code",
   "execution_count": 103,
   "metadata": {},
   "outputs": [
    {
     "name": "stdout",
     "output_type": "stream",
     "text": [
      "Optimization terminated successfully.    (Exit mode 0)\n",
      "            Current function value: 9.805254993626674e-07\n",
      "            Iterations: 24\n",
      "            Function evaluations: 527\n",
      "            Gradient evaluations: 24\n"
     ]
    }
   ],
   "source": [
    "# %load bip6fail.py\n",
    "from robots import loadTalosLegs\n",
    "from scipy.optimize import fmin_slsqp\n",
    "import pinocchio\n",
    "from pinocchio.utils import *\n",
    "from numpy.linalg import norm,inv,pinv,eig,svd\n",
    "\n",
    "m2a = lambda m: np.array(m.flat)\n",
    "a2m = lambda a: np.matrix(a).T\n",
    "\n",
    "robot   = loadTalosLegs()\n",
    "robot.initDisplay(loadModel=True)\n",
    "\n",
    "class OptimProblem:\n",
    "    def __init__(self,rmodel,rdata,gview=None):\n",
    "        self.rmodel = rmodel\n",
    "        self.rdata = rdata\n",
    "\n",
    "        self.refL = pinocchio.SE3(eye(3), np.matrix([ 0., 1.5, 1.]).T )\n",
    "        self.idL = rmodel.getFrameId('left_sole_link')  # ID of the robot object to control\n",
    "\n",
    "        self.refR = pinocchio.SE3(eye(3), np.matrix([ 0., -1.5, 0.]).T )\n",
    "        self.idR = rmodel.getFrameId('right_sole_link')# ID of the robot object to control\n",
    "\n",
    "        self.initDisplay(gview)\n",
    "\n",
    "    def cost(self,x):\n",
    "        q = a2m(x)\n",
    "        pinocchio.forwardKinematics(self.rmodel,self.rdata,q)\n",
    "        pinocchio.updateFramePlacements(self.rmodel,self.rdata)\n",
    "\n",
    "        refMl = self.refL.inverse()*self.rdata.oMf[self.idL]\n",
    "        residualL = m2a(pinocchio.log(refMl).vector)\n",
    "        refMr = self.refR.inverse()*self.rdata.oMf[self.idR]\n",
    "        residualR = m2a(pinocchio.log(refMr).vector)\n",
    "\n",
    "        self.residuals = np.concatenate([residualL,residualR])\n",
    "        return sum( self.residuals**2 )\n",
    "    \n",
    "    # --- BLABLA -------------------------------------------------------------\n",
    "    def initDisplay(self,gview):\n",
    "        if gview is None: return \n",
    "        self.gview = gview\n",
    "        self.gobjR = \"world/targetR\"\n",
    "        self.gobjL = \"world/targetL\"\n",
    "        self.gview.addBox(self.gobjR,.1,.03,.03,[1,0,0,1])\n",
    "        self.gview.addBox(self.gobjL,.1,.03,.03,[0,1,0,1])\n",
    "        self.gview.applyConfiguration(self.gobjR,se3ToXYZQUAT(self.refR))\n",
    "        self.gview.applyConfiguration(self.gobjL,se3ToXYZQUAT(self.refL))\n",
    "        self.gview.refresh()\n",
    "    def callback(self,x):\n",
    "        import time\n",
    "        q = a2m(x)\n",
    "        robot.display(q)\n",
    "        time.sleep(1e-2)\n",
    "     \n",
    "pbm = OptimProblem(robot.model,robot.data,robot.viewer.gui)\n",
    "\n",
    "x0  = m2a(robot.q0)\n",
    "result = fmin_slsqp(x0       = x0,\n",
    "                    func     = pbm.cost,\n",
    "                    callback = pbm.callback)\n",
    "qopt = a2m(result)\n"
   ]
  },
  {
   "cell_type": "markdown",
   "metadata": {},
   "source": [
    "## Working with optimization and quaternion: solution 1\n",
    "We can add a constraint to force the solver to keep the quaternion unitary. Do it! (solution only if need be)."
   ]
  },
  {
   "cell_type": "code",
   "execution_count": 105,
   "metadata": {},
   "outputs": [
    {
     "name": "stdout",
     "output_type": "stream",
     "text": [
      "Optimization terminated successfully.    (Exit mode 0)\n",
      "            Current function value: 1.2396718207311839\n",
      "            Iterations: 22\n",
      "            Function evaluations: 472\n",
      "            Gradient evaluations: 22\n",
      "[ 1.60942620e-01 -1.69722777e-06  3.56128015e-04  9.86963810e-01]\n"
     ]
    }
   ],
   "source": [
    "# %load solution_quaternion_constraint.py\n"
   ]
  },
  {
   "cell_type": "markdown",
   "metadata": {},
   "source": [
    "## Working with optimization and quaternion: solution 2\n",
    "An alternative is to work in another representation of the configuration space that is minimal. To be efficient, it should also be smooth and easy to differentiate. \n",
    "\n",
    "Here, we will use a representation as $v_q$ the displacement from a reference configuration $q_0$. It is not a very good representation when $v_q$ becomes too large. But it as the advantage that the derivatives are not too complex to compute. And it is a good representation when $v_q$ is small. In more advanced algorithms, we will keep the same representation but change the reference $q_0$ from time to time. By that way, everything that we do here can be kept for a more advance numerical algorithm."
   ]
  },
  {
   "cell_type": "code",
   "execution_count": 107,
   "metadata": {},
   "outputs": [
    {
     "name": "stdout",
     "output_type": "stream",
     "text": [
      "Optimization terminated successfully.    (Exit mode 0)\n",
      "            Current function value: 0.46197412553901923\n",
      "            Iterations: 6\n",
      "            Function evaluations: 120\n",
      "            Gradient evaluations: 6\n"
     ]
    }
   ],
   "source": [
    "# %load bip6d.py\n",
    "from robots import loadTalosLegs\n",
    "from scipy.optimize import fmin_slsqp\n",
    "import pinocchio\n",
    "from pinocchio.utils import *\n",
    "from numpy.linalg import norm,inv,pinv,eig,svd\n",
    "\n",
    "m2a = lambda m: np.array(m.flat)\n",
    "a2m = lambda a: np.matrix(a).T\n",
    "\n",
    "robot   = loadTalosLegs()\n",
    "robot.initDisplay(loadModel=True)\n",
    "\n",
    "class OptimProblem:\n",
    "    def __init__(self,rmodel,rdata,gview=None):\n",
    "\n",
    "        self.rmodel = rmodel\n",
    "        self.rdata = rdata\n",
    "\n",
    "        self.refL = pinocchio.SE3(eye(3), np.matrix([ 0., .3, 0.]).T )\n",
    "        self.idL = rmodel.getFrameId('left_sole_link')  # ID of the robot object to control\n",
    "\n",
    "        self.refR = pinocchio.SE3(eye(3), np.matrix([ 0., -.3, 0.]).T )\n",
    "        self.idR = rmodel.getFrameId('right_sole_link')# ID of the robot object to control\n",
    "\n",
    "        self.refQ = rmodel.neutralConfiguration\n",
    "\n",
    "        self.initDisplay(gview)\n",
    "\n",
    "        self.neq = 12\n",
    "        self.eq = np.zeros(self.neq)\n",
    "        self.Jeq = np.zeros([self.neq, self.rmodel.nv])\n",
    "\n",
    "        # configurations are represented as velocity integrated from this point.\n",
    "        self.q0 = rmodel.neutralConfiguration\n",
    "\n",
    "    def vq2q(self,vq):   return pinocchio.integrate(self.rmodel,self.q0,vq)\n",
    "    def q2vq(self,q):    return pinocchio.difference(self.rmodel,self.q0,q)\n",
    "        \n",
    "    def cost(self,x):\n",
    "        q = self.vq2q(a2m(x))\n",
    "        self.residuals = m2a(pinocchio.difference(self.rmodel,self.refQ,q)[6:])\n",
    "        return sum( self.residuals**2 )\n",
    "        \n",
    "    def constraint_leftfoot(self,x,nc=0):\n",
    "        q = self.vq2q(a2m(x))\n",
    "        pinocchio.forwardKinematics(self.rmodel,self.rdata,q)\n",
    "        pinocchio.updateFramePlacements(self.rmodel,self.rdata)\n",
    "        refMl = self.refL.inverse()*self.rdata.oMf[self.idL]\n",
    "        self.eq[nc:nc+6] = m2a(pinocchio.log(refMl).vector)\n",
    "        return self.eq[nc:nc+6].tolist()\n",
    "\n",
    "    def constraint_rightfoot(self,x,nc=0):\n",
    "        q = self.vq2q(a2m(x))\n",
    "        pinocchio.forwardKinematics(self.rmodel,self.rdata,q)\n",
    "        pinocchio.updateFramePlacements(self.rmodel,self.rdata)\n",
    "        refMr = self.refR.inverse()*self.rdata.oMf[self.idR]\n",
    "        self.eq[nc:nc+6] = m2a(pinocchio.log(refMr).vector)\n",
    "        return self.eq[nc:nc+6].tolist()\n",
    "\n",
    "    def constraint(self,x):\n",
    "        self.constraint_rightfoot(x,0)\n",
    "        self.constraint_leftfoot(x,6)\n",
    "        return self.eq.tolist()\n",
    "    \n",
    "    # --- BLABLA -------------------------------------------------------------\n",
    "    def initDisplay(self,gview):\n",
    "        if gview is None: return \n",
    "        self.gview = gview\n",
    "        self.gobjR = \"world/targetR\"\n",
    "        self.gobjL = \"world/targetL\"\n",
    "        self.gview.addBox(self.gobjR,.1,.03,.03,[1,0,0,1])\n",
    "        self.gview.addBox(self.gobjL,.1,.03,.03,[0,1,0,1])\n",
    "        self.gview.applyConfiguration(self.gobjR,se3ToXYZQUAT(self.refR))\n",
    "        self.gview.applyConfiguration(self.gobjL,se3ToXYZQUAT(self.refL))\n",
    "        self.gview.refresh()\n",
    "\n",
    "    def callback(self,x):\n",
    "        import time\n",
    "        q = self.vq2q(a2m(x))\n",
    "        robot.display(q)\n",
    "        time.sleep(1e-1)\n",
    "\n",
    "\n",
    "pbm = OptimProblem(robot.model,robot.data,robot.viewer.gui)\n",
    "pbm.refQ = robot.q0.copy()\n",
    "\n",
    "x0  = m2a(pbm.q2vq(robot.q0))\n",
    "result = fmin_slsqp(x0       = x0,\n",
    "                    func     = pbm.cost,\n",
    "                    f_eqcons = pbm.constraint,\n",
    "                    callback = pbm.callback)\n",
    "qopt = pbm.vq2q(a2m(result))\n"
   ]
  },
  {
   "cell_type": "code",
   "execution_count": null,
   "metadata": {},
   "outputs": [],
   "source": []
  }
 ],
 "metadata": {
  "kernelspec": {
   "display_name": "Python 2",
   "language": "python",
   "name": "python2"
  },
  "language_info": {
   "codemirror_mode": {
    "name": "ipython",
    "version": 2
   },
   "file_extension": ".py",
   "mimetype": "text/x-python",
   "name": "python",
   "nbconvert_exporter": "python",
   "pygments_lexer": "ipython2",
   "version": "2.7.12"
  }
 },
 "nbformat": 4,
 "nbformat_minor": 2
}
