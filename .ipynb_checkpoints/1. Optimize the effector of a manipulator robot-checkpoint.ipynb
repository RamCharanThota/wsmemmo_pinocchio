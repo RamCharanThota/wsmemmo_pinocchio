{
 "cells": [
  {
   "cell_type": "markdown",
   "metadata": {},
   "source": [
    "# Basics of Pinocchio\n",
    "\n",
    "Welcome in Pinocchio, a C++ library with Python API to efficiently compute all the elements of the model of a rigid robot, and their derivatives. Pinocchio is nicely tailored for generating the motion of a robot using a optimization program. \n",
    "\n",
    "Let's start by loading and display the robot model."
   ]
  },
  {
   "cell_type": "code",
   "execution_count": 24,
   "metadata": {},
   "outputs": [],
   "source": [
    "import pinocchio\n",
    "import numpy as np\n",
    "from numpy.linalg import norm,inv,pinv,svd,eig"
   ]
  },
  {
   "cell_type": "markdown",
   "metadata": {},
   "source": [
    "You can always alias the long pinocchio namespace to something shorter like pino. In the tuto, we keep the long name for clarity, feel free to shorten it."
   ]
  },
  {
   "cell_type": "markdown",
   "metadata": {},
   "source": [
    "## Loading the robot\n",
    "\n",
    "Pinocchio offers several possibilities to load the model of the robot as a kinematic tree of joints, masses, geometry object and other informative tree \"decoration\": the most classical is to parse the information from a URDF model. Here we will work with the Talos models: a fixed arm and a pair of floating leg. The collection of Talos models can be downloaded in Ubuntu with the APT package *robotpkg-talos-data*."
   ]
  },
  {
   "cell_type": "code",
   "execution_count": 25,
   "metadata": {},
   "outputs": [
    {
     "name": "stdout",
     "output_type": "stream",
     "text": [
      "Nb joints = 8 (nq=7,nv=7)\n",
      "  Joint 0 universe: parent=0\n",
      "  Joint 1 arm_left_2_joint: parent=0\n",
      "  Joint 2 arm_left_3_joint: parent=1\n",
      "  Joint 3 arm_left_4_joint: parent=2\n",
      "  Joint 4 arm_left_5_joint: parent=3\n",
      "  Joint 5 arm_left_6_joint: parent=4\n",
      "  Joint 6 arm_left_7_joint: parent=5\n",
      "  Joint 7 gripper_left_joint: parent=6\n",
      "\n"
     ]
    },
    {
     "name": "stderr",
     "output_type": "stream",
     "text": [
      "Warning: link 'wrist_left_ft_tool_link' material 'FlatBlack' undefined.\n",
      "         at line 84 in /build/urdfdom-VnCcob/urdfdom-1.0.4+ds/urdf_parser/src/model.cpp\n",
      "Warning: link 'wrist_left_ft_tool_link' material 'FlatBlack' undefined.\n",
      "         at line 84 in /build/urdfdom-VnCcob/urdfdom-1.0.4+ds/urdf_parser/src/model.cpp\n"
     ]
    }
   ],
   "source": [
    "urdfFile = '/opt/openrobots/share/talos_data/robots/talos_left_arm.urdf'\n",
    "rmodel = pinocchio.buildModelFromUrdf(urdfFile)\n",
    "print(rmodel)"
   ]
  },
  {
   "cell_type": "markdown",
   "metadata": {},
   "source": [
    "This model as 7 joints, with a configuration space of dimension nq=7. Let's browse quickly the content of the kinematic tree.\n",
    "In Pinocchio, we do not store explicitly bodies, but the placement of the joint frame, needed to compute the forward kinematics. We name \"universe\" the first joint frame, and then name each other frame from the name of the joint. Joint information are then stored with the same numbers, 0 being the universe, 1 the first joint, etc until 8 the last joint."
   ]
  },
  {
   "cell_type": "code",
   "execution_count": 26,
   "metadata": {},
   "outputs": [
    {
     "name": "stdout",
     "output_type": "stream",
     "text": [
      "0 universe\n",
      "1 arm_left_2_joint\n",
      "2 arm_left_3_joint\n",
      "3 arm_left_4_joint\n",
      "4 arm_left_5_joint\n",
      "5 arm_left_6_joint\n",
      "6 arm_left_7_joint\n",
      "7 gripper_left_joint\n"
     ]
    }
   ],
   "source": [
    "for i,j in enumerate(rmodel.names): print(i,j)"
   ]
  },
  {
   "cell_type": "markdown",
   "metadata": {},
   "source": [
    "We do our best to keep the names of the URDF file, but as we do not have exactly the same convention for representing the kinematic tree, sometime information are not stored.\n",
    "Contrary to URDF, our tree is made only of joint. The kinematic order is stored in the parent map rmodel.parent. The type of the joints (revolute X, free flyer, spherical, prismatic, etc) are stored in the rmodel.joints map. Each joint is placed (ie position and orientation) with respect to its parent, and the placement is stored in rmodel.placement."
   ]
  },
  {
   "cell_type": "code",
   "execution_count": 27,
   "metadata": {},
   "outputs": [
    {
     "name": "stdout",
     "output_type": "stream",
     "text": [
      "0 JointModelRX\n",
      "  index: 18446744073709551615\n",
      "  index q: -1\n",
      "  index v: -1\n",
      "  nq: 1\n",
      "  nv: 1\n",
      " parent=0   R =\n",
      "1 0 0\n",
      "0 1 0\n",
      "0 0 1\n",
      "  p = 0 0 0\n",
      "\n",
      "1 JointModelRX\n",
      "  index: 1\n",
      "  index q: 0\n",
      "  index v: 0\n",
      "  nq: 1\n",
      "  nv: 1\n",
      " parent=0   R =\n",
      "1 0 0\n",
      "0 1 0\n",
      "0 0 1\n",
      "  p = 0.00493  0.1365 0.04673\n",
      "\n",
      "2 JointModelRZ\n",
      "  index: 2\n",
      "  index q: 1\n",
      "  index v: 1\n",
      "  nq: 1\n",
      "  nv: 1\n",
      " parent=1   R =\n",
      "1 0 0\n",
      "0 1 0\n",
      "0 0 1\n",
      "  p = 0 0 0\n",
      "\n",
      "3 JointModelRY\n",
      "  index: 3\n",
      "  index q: 2\n",
      "  index v: 2\n",
      "  nq: 1\n",
      "  nv: 1\n",
      " parent=2   R =\n",
      "1 0 0\n",
      "0 1 0\n",
      "0 0 1\n",
      "  p =   0.02      0 -0.273\n",
      "\n",
      "4 JointModelRZ\n",
      "  index: 4\n",
      "  index q: 3\n",
      "  index v: 3\n",
      "  nq: 1\n",
      "  nv: 1\n",
      " parent=3   R =\n",
      "1 0 0\n",
      "0 1 0\n",
      "0 0 1\n",
      "  p =   -0.02       0 -0.2643\n",
      "\n",
      "5 JointModelRX\n",
      "  index: 5\n",
      "  index q: 4\n",
      "  index v: 4\n",
      "  nq: 1\n",
      "  nv: 1\n",
      " parent=4   R =\n",
      "1 0 0\n",
      "0 1 0\n",
      "0 0 1\n",
      "  p = 0 0 0\n",
      "\n",
      "6 JointModelRY\n",
      "  index: 6\n",
      "  index q: 5\n",
      "  index v: 5\n",
      "  nq: 1\n",
      "  nv: 1\n",
      " parent=5   R =\n",
      "1 0 0\n",
      "0 1 0\n",
      "0 0 1\n",
      "  p = 0 0 0\n",
      "\n",
      "7 JointModelRX\n",
      "  index: 7\n",
      "  index q: 6\n",
      "  index v: 6\n",
      "  nq: 1\n",
      "  nv: 1\n",
      " parent=6   R =\n",
      "1 0 0\n",
      "0 1 0\n",
      "0 0 1\n",
      "  p =         0   0.02025 -0.122475\n",
      "\n"
     ]
    }
   ],
   "source": [
    "for i,(j,p,M) in enumerate(zip(rmodel.joints,rmodel.parents,rmodel.jointPlacements)): \n",
    "    print(i,j,\"parent=%d\"%p,M)"
   ]
  },
  {
   "cell_type": "markdown",
   "metadata": {},
   "source": [
    "Masses and inertias are also stored, along with other informations we will discuss later. The dimension of the configuration space is denoted rmodel.nq, while the number of degrees of freedom is rmodel.nv (sometime, nq>nv, here both are equals). The number of joints is given by rmodel.njoints: here as all joints have dimension 1 and we must account for the universe, we have njoints=nq+1."
   ]
  },
  {
   "cell_type": "code",
   "execution_count": 28,
   "metadata": {},
   "outputs": [
    {
     "name": "stdout",
     "output_type": "stream",
     "text": [
      "7 7 8\n"
     ]
    }
   ],
   "source": [
    "print(rmodel.nq,rmodel.nv,rmodel.njoints)"
   ]
  },
  {
   "cell_type": "markdown",
   "metadata": {},
   "source": [
    "## The convenient RobotWrapper and the display\n",
    "Most of the Python API simply copy the C++ API. We are using Boost::Python to simply copy the API from C++ to Python, with minor re-arragement.\n",
    "Only a helper object has been introduced in Python to make the life of the newcommer easier: the RobotWrapper. It is in particular helpful to load completely the model and display it in Gepetto-Viewer. RobotWrapper loads the URDF model but also loads the geometry models for the display and the collision checker. For that, it needs some extra path information that are gathered in the robots.py. Go and have a look at it."
   ]
  },
  {
   "cell_type": "code",
   "execution_count": 29,
   "metadata": {},
   "outputs": [
    {
     "name": "stdout",
     "output_type": "stream",
     "text": [
      "Nb joints = 8 (nq=7,nv=7)\n",
      "  Joint 0 universe: parent=0\n",
      "  Joint 1 arm_left_2_joint: parent=0\n",
      "  Joint 2 arm_left_3_joint: parent=1\n",
      "  Joint 3 arm_left_4_joint: parent=2\n",
      "  Joint 4 arm_left_5_joint: parent=3\n",
      "  Joint 5 arm_left_6_joint: parent=4\n",
      "  Joint 6 arm_left_7_joint: parent=5\n",
      "  Joint 7 gripper_left_joint: parent=6\n",
      "\n"
     ]
    },
    {
     "name": "stderr",
     "output_type": "stream",
     "text": [
      "Warning: link 'wrist_left_ft_tool_link' material 'FlatBlack' undefined.\n",
      "         at line 84 in /build/urdfdom-VnCcob/urdfdom-1.0.4+ds/urdf_parser/src/model.cpp\n",
      "Warning: link 'wrist_left_ft_tool_link' material 'FlatBlack' undefined.\n",
      "         at line 84 in /build/urdfdom-VnCcob/urdfdom-1.0.4+ds/urdf_parser/src/model.cpp\n",
      "Warning: link 'wrist_left_ft_tool_link' material 'FlatBlack' undefined.\n",
      "         at line 84 in /build/urdfdom-VnCcob/urdfdom-1.0.4+ds/urdf_parser/src/model.cpp\n",
      "Warning: link 'wrist_left_ft_tool_link' material 'FlatBlack' undefined.\n",
      "         at line 84 in /build/urdfdom-VnCcob/urdfdom-1.0.4+ds/urdf_parser/src/model.cpp\n",
      "Warning: link 'wrist_left_ft_tool_link' material 'FlatBlack' undefined.\n",
      "         at line 84 in /build/urdfdom-VnCcob/urdfdom-1.0.4+ds/urdf_parser/src/model.cpp\n",
      "Warning: link 'wrist_left_ft_tool_link' material 'FlatBlack' undefined.\n",
      "         at line 84 in /build/urdfdom-VnCcob/urdfdom-1.0.4+ds/urdf_parser/src/model.cpp\n"
     ]
    }
   ],
   "source": [
    "import robots\n",
    "robot = robots.loadTalosArm()\n",
    "print(robot.model)"
   ]
  },
  {
   "cell_type": "markdown",
   "metadata": {},
   "source": [
    "Finally, it loaded the same robot model than before, but also did other interresting parsing, that we will discover later. Using the extra info we can initialize the display. Start gepetto-gui from a terminal (it has been installed from the 2 packages robotpkg-gepetto-viewer-corba and robotpkg-osg-dae). Gepetto-gui starts a graphic server, and we will open a client to this server in Python using the method implemented in RobotWrapper:"
   ]
  },
  {
   "cell_type": "code",
   "execution_count": 30,
   "metadata": {},
   "outputs": [
    {
     "name": "stderr",
     "output_type": "stream",
     "text": [
      "/tmp/ipykernel_128694/3840833714.py:1: DeprecatedWarning: Call to deprecated function initDisplay. Use initViewer\n",
      "  robot.initDisplay(loadModel=True)\n"
     ]
    }
   ],
   "source": [
    "robot.initDisplay(loadModel=True)"
   ]
  },
  {
   "cell_type": "markdown",
   "metadata": {},
   "source": [
    "You can see in the GUI window that a blue world has been loaded, with all the meshes of the robot stacked in the middle of the scene. Gepetto-viewer is indeed a rigid-object viewer, that display each mesh at a given placement (gepetto-viewer has no idea of the kinematic chain). You then need pinocchio to compute the placement of all the bodies and place them at the right position and orientation. This is all done in RobotWrapper. "
   ]
  },
  {
   "cell_type": "code",
   "execution_count": 31,
   "metadata": {},
   "outputs": [],
   "source": [
    "robot.display(robot.q0)"
   ]
  },
  {
   "cell_type": "markdown",
   "metadata": {},
   "source": [
    "where robot.q0 is a configuration of the robot. RobotWrapper was designed initially as a reference example where a newcommer can pick basic ways of using Pinocchio. Don't hesitate to go inside this Python file and have a look at how it is done. \n",
    "The robot configuration can be changed in Gepetto-viewer with:"
   ]
  },
  {
   "cell_type": "code",
   "execution_count": 32,
   "metadata": {},
   "outputs": [],
   "source": [
    "from pinocchio.utils import rand,zero,eye\n",
    "robot.display(rand(robot.model.nq)*2-1)"
   ]
  },
  {
   "cell_type": "markdown",
   "metadata": {},
   "source": [
    "## Spatial algebra\n",
    "The scene, and later the movement and forces in the scene are modeled following Featherstone's Spatial Algebra. Placement, i.e. rotation and translation of frames (and bodies) are stored in objects of the class SE3. Rigid velocities and acceleration are stored in the class Motion, forces in the class Forces and masses/inertias in the class Inertias."
   ]
  },
  {
   "cell_type": "code",
   "execution_count": 33,
   "metadata": {},
   "outputs": [
    {
     "name": "stdout",
     "output_type": "stream",
     "text": [
      "  R =\n",
      "  0.414966  -0.909316  0.0307914\n",
      "  0.868596   0.406004    0.28408\n",
      "  -0.27082 -0.0911383   0.958306\n",
      "  p =  0.539828 -0.199543  0.783059\n",
      "   v = -0.433371 -0.295083  0.615449\n",
      "  w =  0.838053 -0.860489  0.898654\n",
      "   f = 0.0519907 -0.827888 -0.615572\n",
      "tau =  0.326454  0.780465 -0.302214\n",
      "   m = 1.07952\n",
      "  c =  0.804416   0.70184 -0.466669\n",
      "  I = \n",
      " 2.44484  1.37535 0.441652\n",
      " 1.37535  1.20266 0.390399\n",
      "0.441652 0.390399  1.92352\n"
     ]
    }
   ],
   "source": [
    "from pinocchio import SE3,Motion,Force,Inertia\n",
    "M = SE3.Random()\n",
    "nu = Motion.Random()\n",
    "phi = Force.Random()\n",
    "Y = Inertia.Random()\n",
    "print(M,nu,phi,Y)\n"
   ]
  },
  {
   "cell_type": "markdown",
   "metadata": {},
   "source": [
    "These objects store linear and angular part asside, but we often have to come back to a plain vector/matrix representation. In that case, contrary to Featherstone, we rather store linear part first and angular second."
   ]
  },
  {
   "cell_type": "code",
   "execution_count": 34,
   "metadata": {},
   "outputs": [
    {
     "name": "stdout",
     "output_type": "stream",
     "text": [
      "  v = -0.433371 -0.295083  0.615449\n",
      "  w =  0.838053 -0.860489  0.898654\n",
      " [-0.43337051 -0.29508331  0.61544904  0.83805295 -0.86048945  0.89865415]\n"
     ]
    }
   ],
   "source": [
    "print(nu,nu.vector.T)"
   ]
  },
  {
   "cell_type": "markdown",
   "metadata": {},
   "source": [
    "# Forward kinematics: the first algorithm\n",
    "## Model and data\n",
    "Before calling the algorithm, let's introduce a specificity of Pinocchio: the strict separation between constant model element in the Model class, and all the buffers for storing algorithm quantities in the Data class. "
   ]
  },
  {
   "cell_type": "code",
   "execution_count": 35,
   "metadata": {},
   "outputs": [],
   "source": [
    "rdata = rmodel.createData()"
   ]
  },
  {
   "cell_type": "markdown",
   "metadata": {},
   "source": [
    "The RobotWrapper creates a Data object by default:"
   ]
  },
  {
   "cell_type": "code",
   "execution_count": 36,
   "metadata": {},
   "outputs": [
    {
     "name": "stdout",
     "output_type": "stream",
     "text": [
      "<pinocchio.pinocchio_pywrap.Data object at 0x3f2edd0>\n"
     ]
    }
   ],
   "source": [
    "print(robot.data)"
   ]
  },
  {
   "cell_type": "markdown",
   "metadata": {},
   "source": [
    "The idea is that the same model can be used by different part of the algorithm to compute different values from different argument. For example, in a optimal-control implementation of Pinocchio, you likely want to have a single robot model for all your problem, but several data for each node of your optimal control solver. In the tuto, we will for example use the fact that the numerical algorithm has its own Data, while the RobotWrapper use another Data for computing body placements when displaying something."
   ]
  },
  {
   "cell_type": "markdown",
   "metadata": {},
   "source": [
    "## Calling the algorithm implementation\n",
    "The forward kinematics simply compute the placement of every joint frame for a given configuration q. "
   ]
  },
  {
   "cell_type": "code",
   "execution_count": 37,
   "metadata": {},
   "outputs": [
    {
     "name": "stdout",
     "output_type": "stream",
     "text": [
      "0   R =\n",
      "        1         0         0\n",
      "        0  0.685254 -0.728304\n",
      "        0  0.728304  0.685254\n",
      "  p = 0.00493  0.1365 0.04673\n",
      "\n",
      "1   R =\n",
      " 0.800604 -0.599194         0\n",
      "   0.4106  0.548617 -0.728304\n",
      " 0.436395  0.583083  0.685254\n",
      "  p = 0.00493  0.1365 0.04673\n",
      "\n",
      "2   R =\n",
      " 0.800474 -0.599194 0.0144097\n",
      " 0.423642  0.548617 -0.720796\n",
      " 0.423991  0.583083  0.692998\n",
      "  p = 0.0209421  0.343539 -0.131617\n",
      "\n",
      "3   R =\n",
      "0.0969649 -0.995183 0.0144097\n",
      "  0.69081 0.0568718 -0.720796\n",
      " 0.716505 0.0798463  0.692998\n",
      "  p = 0.0011241  0.525572 -0.323256\n",
      "\n",
      "4   R =\n",
      "0.0969649 -0.930278  0.353808\n",
      "  0.69081 -0.193005   -0.6968\n",
      " 0.716505  0.311979  0.623931\n",
      "  p = 0.0011241  0.525572 -0.323256\n",
      "\n",
      "5   R =\n",
      "-0.0694073  -0.930278   0.360229\n",
      "  0.927656  -0.193005  -0.319693\n",
      "   0.36693   0.311979   0.876374\n",
      "  p = 0.0011241  0.525572 -0.323256\n",
      "\n",
      "6   R =\n",
      "-0.0694073  -0.815365   0.574771\n",
      "  0.927656  -0.264674  -0.263444\n",
      "   0.36693   0.514905   0.774749\n",
      "  p = -0.061833  0.560819 -0.424272\n",
      "\n"
     ]
    }
   ],
   "source": [
    "q = rand(rmodel.nq)\n",
    "pinocchio.forwardKinematics(rmodel,rdata,q)\n",
    "for i,M in enumerate(rdata.oMi[1:]): print(i,M)"
   ]
  },
  {
   "cell_type": "markdown",
   "metadata": {},
   "source": [
    "When calling forwardKinematics, the model rmodel has not been changed, while the results of the algorithm have been stored in the robot Data. Some algorithm have a main result that is returned by the algorithm (like for example crba that returns the robot mass matrix), but in general the main algorithm results are just several changes in the tables stored in robot Data.\n",
    "\n",
    "## Computing the end-effector position\n",
    "In a first time, we want to control the end effector position (3D). It is given by:"
   ]
  },
  {
   "cell_type": "code",
   "execution_count": 38,
   "metadata": {},
   "outputs": [
    {
     "name": "stdout",
     "output_type": "stream",
     "text": [
      "End effector =  [-0.06183305  0.56081852 -0.42427195]\n"
     ]
    }
   ],
   "source": [
    "print(\"End effector = \" , rdata.oMi[-1].translation.T)"
   ]
  },
  {
   "cell_type": "markdown",
   "metadata": {},
   "source": [
    "# Optimizing the end effector position\n",
    "We can now set up the first optimization problem that compute a robot configuration minimizing the distance between the position of the end-effector and a 3D target. \n",
    "For that we will use the fmin_slsqp from SciPy. You need to define the cost function cost(q) that returns a scalar measuring this distance. Beware of a painful implementation detail!\n",
    "## The classes Matrix and Array of NumPy\n",
    "NumPy implements matrices and vectors with the class np.array, represented as tensors i.e N-D tables, where vectors would be N=1, matrices N=2. Tensor product, that boils down to Matrix-Vector and Matrix-Matrix products in the corresponding dimension, is obtained with the np.dot operator : np.dot(A,x) to multiply $A*x$. The multiplication operator is not the matrix product but the coefficient-wise product.\n",
    "\n",
    "On the other hand, NumPy also introduces the class Matrix as a specific implementation of the 2-D array, and overload the __ mult __ operator to match the matrix operator, hence $A*x$ is directly obtain with the \\* symbol.\n",
    "\n",
    "Pinocchio has been implemented with the Matrix class. Any other Python package is rather implemented with the Array class. In particular, the SciPy optimizers are with Array. So, we will painfully have to convert array to matrix before calling Pinocchio algorithms, and back to array when returning the results to the optimizer. \n"
   ]
  },
  {
   "cell_type": "code",
   "execution_count": 49,
   "metadata": {},
   "outputs": [
    {
     "name": "stdout",
     "output_type": "stream",
     "text": [
      "[[1 2 3]\n",
      " [4 5 6]\n",
      " [7 8 9]]\n",
      "[[9 8 7]\n",
      " [6 5 4]\n",
      " [3 2 1]]\n",
      "[1 2 3 4 5 6 7 8 9]\n",
      "[[1 6]\n",
      " [2 7]\n",
      " [3 8]\n",
      " [4 9]]\n"
     ]
    }
   ],
   "source": [
    "m2a = lambda m: np.array(m.flat)\n",
    "a2m = lambda a: np.matrix(a).T\n",
    "\n",
    "# Define two 3x3 matrices\n",
    "matrix1 = np.matrix([[1, 2, 3],\n",
    "                     [4, 5, 6],\n",
    "                     [7, 8, 9]])\n",
    "\n",
    "matrix2 = np.matrix([[9, 8, 7],\n",
    "                     [6, 5, 4],\n",
    "                     [3, 2, 1]])\n",
    "\n",
    "# Compute their product\n",
    "product = matrix1 * matrix2\n",
    "\n",
    "vector =np.array([[1,2,3,4],[6,7,8,9]])\n",
    "print(matrix1)\n",
    "print(matrix2)\n",
    "print(np.array(matrix1.flat))\n",
    "\n",
    "print(np.matrix(vector).T)"
   ]
  },
  {
   "cell_type": "markdown",
   "metadata": {},
   "source": [
    "## Cost function\n",
    "That said, the cost function simply has to call forwardKinematics, and return the difference between the computed effector position and a reference."
   ]
  },
  {
   "cell_type": "code",
   "execution_count": 42,
   "metadata": {},
   "outputs": [
    {
     "name": "stdout",
     "output_type": "stream",
     "text": [
      "2.4378651858493057\n"
     ]
    }
   ],
   "source": [
    "ref = np.matrix([.3,.3,.3]).T\n",
    "def cost(x):\n",
    "    q = a2m(x)\n",
    "    pinocchio.forwardKinematics(rmodel,rdata,q)\n",
    "    M = rdata.oMi[-1]\n",
    "    p = M.translation\n",
    "    residuals = m2a(p-ref)\n",
    "    return sum( residuals**2)\n",
    "x0 = np.random.rand(rmodel.nq)\n",
    "print(cost(x0))"
   ]
  },
  {
   "cell_type": "markdown",
   "metadata": {},
   "source": [
    "## FMin\n",
    "The optimizer chosen for the class is SLSQP which is a SQP accepting equality, inequality and bound constraints, using BFGS for quasi-newton acceleration and a least-square QP for computing the Newton step. It is quite a good solver, although not strong enough for implementing real robotics application. It is yet quite comfortable for a class to have access to it through the easy package SciPy.\n",
    "The API of slsqp is as follows:"
   ]
  },
  {
   "cell_type": "code",
   "execution_count": 51,
   "metadata": {},
   "outputs": [
    {
     "name": "stdout",
     "output_type": "stream",
     "text": [
      "Help on function fmin_slsqp in module scipy.optimize._slsqp_py:\n",
      "\n",
      "fmin_slsqp(func, x0, eqcons=(), f_eqcons=None, ieqcons=(), f_ieqcons=None, bounds=(), fprime=None, fprime_eqcons=None, fprime_ieqcons=None, args=(), iter=100, acc=1e-06, iprint=1, disp=None, full_output=0, epsilon=1.4901161193847656e-08, callback=None)\n",
      "    Minimize a function using Sequential Least Squares Programming\n",
      "    \n",
      "    Python interface function for the SLSQP Optimization subroutine\n",
      "    originally implemented by Dieter Kraft.\n",
      "    \n",
      "    Parameters\n",
      "    ----------\n",
      "    func : callable f(x,*args)\n",
      "        Objective function.  Must return a scalar.\n",
      "    x0 : 1-D ndarray of float\n",
      "        Initial guess for the independent variable(s).\n",
      "    eqcons : list, optional\n",
      "        A list of functions of length n such that\n",
      "        eqcons[j](x,*args) == 0.0 in a successfully optimized\n",
      "        problem.\n",
      "    f_eqcons : callable f(x,*args), optional\n",
      "        Returns a 1-D array in which each element must equal 0.0 in a\n",
      "        successfully optimized problem. If f_eqcons is specified,\n",
      "        eqcons is ignored.\n",
      "    ieqcons : list, optional\n",
      "        A list of functions of length n such that\n",
      "        ieqcons[j](x,*args) >= 0.0 in a successfully optimized\n",
      "        problem.\n",
      "    f_ieqcons : callable f(x,*args), optional\n",
      "        Returns a 1-D ndarray in which each element must be greater or\n",
      "        equal to 0.0 in a successfully optimized problem. If\n",
      "        f_ieqcons is specified, ieqcons is ignored.\n",
      "    bounds : list, optional\n",
      "        A list of tuples specifying the lower and upper bound\n",
      "        for each independent variable [(xl0, xu0),(xl1, xu1),...]\n",
      "        Infinite values will be interpreted as large floating values.\n",
      "    fprime : callable `f(x,*args)`, optional\n",
      "        A function that evaluates the partial derivatives of func.\n",
      "    fprime_eqcons : callable `f(x,*args)`, optional\n",
      "        A function of the form `f(x, *args)` that returns the m by n\n",
      "        array of equality constraint normals. If not provided,\n",
      "        the normals will be approximated. The array returned by\n",
      "        fprime_eqcons should be sized as ( len(eqcons), len(x0) ).\n",
      "    fprime_ieqcons : callable `f(x,*args)`, optional\n",
      "        A function of the form `f(x, *args)` that returns the m by n\n",
      "        array of inequality constraint normals. If not provided,\n",
      "        the normals will be approximated. The array returned by\n",
      "        fprime_ieqcons should be sized as ( len(ieqcons), len(x0) ).\n",
      "    args : sequence, optional\n",
      "        Additional arguments passed to func and fprime.\n",
      "    iter : int, optional\n",
      "        The maximum number of iterations.\n",
      "    acc : float, optional\n",
      "        Requested accuracy.\n",
      "    iprint : int, optional\n",
      "        The verbosity of fmin_slsqp :\n",
      "    \n",
      "        * iprint <= 0 : Silent operation\n",
      "        * iprint == 1 : Print summary upon completion (default)\n",
      "        * iprint >= 2 : Print status of each iterate and summary\n",
      "    disp : int, optional\n",
      "        Overrides the iprint interface (preferred).\n",
      "    full_output : bool, optional\n",
      "        If False, return only the minimizer of func (default).\n",
      "        Otherwise, output final objective function and summary\n",
      "        information.\n",
      "    epsilon : float, optional\n",
      "        The step size for finite-difference derivative estimates.\n",
      "    callback : callable, optional\n",
      "        Called after each iteration, as ``callback(x)``, where ``x`` is the\n",
      "        current parameter vector.\n",
      "    \n",
      "    Returns\n",
      "    -------\n",
      "    out : ndarray of float\n",
      "        The final minimizer of func.\n",
      "    fx : ndarray of float, if full_output is true\n",
      "        The final value of the objective function.\n",
      "    its : int, if full_output is true\n",
      "        The number of iterations.\n",
      "    imode : int, if full_output is true\n",
      "        The exit mode from the optimizer (see below).\n",
      "    smode : string, if full_output is true\n",
      "        Message describing the exit mode from the optimizer.\n",
      "    \n",
      "    See also\n",
      "    --------\n",
      "    minimize: Interface to minimization algorithms for multivariate\n",
      "        functions. See the 'SLSQP' `method` in particular.\n",
      "    \n",
      "    Notes\n",
      "    -----\n",
      "    Exit modes are defined as follows ::\n",
      "    \n",
      "        -1 : Gradient evaluation required (g & a)\n",
      "         0 : Optimization terminated successfully\n",
      "         1 : Function evaluation required (f & c)\n",
      "         2 : More equality constraints than independent variables\n",
      "         3 : More than 3*n iterations in LSQ subproblem\n",
      "         4 : Inequality constraints incompatible\n",
      "         5 : Singular matrix E in LSQ subproblem\n",
      "         6 : Singular matrix C in LSQ subproblem\n",
      "         7 : Rank-deficient equality constraint subproblem HFTI\n",
      "         8 : Positive directional derivative for linesearch\n",
      "         9 : Iteration limit reached\n",
      "    \n",
      "    Examples\n",
      "    --------\n",
      "    Examples are given :ref:`in the tutorial <tutorial-sqlsp>`.\n",
      "\n"
     ]
    }
   ],
   "source": [
    "from scipy.optimize import fmin_slsqp\n",
    "help(fmin_slsqp)"
   ]
  },
  {
   "cell_type": "markdown",
   "metadata": {},
   "source": [
    "Here we only use the initial guess and the cost function."
   ]
  },
  {
   "cell_type": "code",
   "execution_count": 52,
   "metadata": {},
   "outputs": [
    {
     "name": "stdout",
     "output_type": "stream",
     "text": [
      "Optimization terminated successfully    (Exit mode 0)\n",
      "            Current function value: 8.175594817381735e-08\n",
      "            Iterations: 15\n",
      "            Function evaluations: 121\n",
      "            Gradient evaluations: 15\n"
     ]
    }
   ],
   "source": [
    "result = fmin_slsqp(x0=np.zeros(rmodel.nq),\n",
    "                    func=cost)"
   ]
  },
  {
   "cell_type": "code",
   "execution_count": 60,
   "metadata": {},
   "outputs": [],
   "source": [
    "qopt = a2m(result)\n",
    "robot.display(qopt)"
   ]
  },
  {
   "cell_type": "markdown",
   "metadata": {},
   "source": [
    "## Using the viewer to interpret the solver\n",
    "Let's use the viewer to see what the solver is doing.\n",
    "First, let's add a visual object to mark the target."
   ]
  },
  {
   "cell_type": "code",
   "execution_count": 61,
   "metadata": {},
   "outputs": [],
   "source": [
    "gview = robot.viewer.gui\n",
    "gview.addSphere('world/target',0.1,[1.,0.,0.,1.]) # radius, [R,G,B,A]\n",
    "gview.applyConfiguration('world/target',[.3,.3,.3,0.,0.,0.,1.]) # x,y,z,quaternion\n",
    "gview.refresh()"
   ]
  },
  {
   "cell_type": "markdown",
   "metadata": {},
   "source": [
    "Gepetto-viewer accepts many types of simple 3d geom (see the /opt/openrobots/share/idl/gepetto/corbaserver/graphical-interface.idl API for a list), and wait for the \"refresh\" order before placing all of them.\n",
    "\n",
    "We can also change the robot configuration while the solver works, to render the current guess of the algorithm. For that, slsqp offers the callback interface."
   ]
  },
  {
   "cell_type": "code",
   "execution_count": 62,
   "metadata": {},
   "outputs": [
    {
     "name": "stdout",
     "output_type": "stream",
     "text": [
      "Optimization terminated successfully    (Exit mode 0)\n",
      "            Current function value: 8.175594817381735e-08\n",
      "            Iterations: 15\n",
      "            Function evaluations: 121\n",
      "            Gradient evaluations: 15\n"
     ]
    }
   ],
   "source": [
    "def callbackDisp(x):\n",
    "    import time\n",
    "    q = a2m(x)\n",
    "    robot.display(q)\n",
    "    time.sleep(.1)\n",
    "result = fmin_slsqp(x0=np.zeros(rmodel.nq),\n",
    "                    func=cost,\n",
    "                    callback=callbackDisp)"
   ]
  },
  {
   "cell_type": "markdown",
   "metadata": {},
   "source": [
    "# The complete program\n",
    "In general, it is recommanded to store all interesting information and data related to the optimization program inside a dedicated object, whose paramaters are initialized in the constructer. Then the cost (and later constraint, callback, etc) functions are object methods. A complete implementation of the 3D example is given in arm3d.py"
   ]
  },
  {
   "cell_type": "code",
   "execution_count": 63,
   "metadata": {},
   "outputs": [
    {
     "name": "stdout",
     "output_type": "stream",
     "text": [
      "Optimization terminated successfully    (Exit mode 0)\n",
      "            Current function value: 1.8019154631746358e-07\n",
      "            Iterations: 12\n",
      "            Function evaluations: 96\n",
      "            Gradient evaluations: 12\n"
     ]
    },
    {
     "name": "stderr",
     "output_type": "stream",
     "text": [
      "Warning: link 'wrist_left_ft_tool_link' material 'FlatBlack' undefined.\n",
      "         at line 84 in /build/urdfdom-VnCcob/urdfdom-1.0.4+ds/urdf_parser/src/model.cpp\n",
      "Warning: link 'wrist_left_ft_tool_link' material 'FlatBlack' undefined.\n",
      "         at line 84 in /build/urdfdom-VnCcob/urdfdom-1.0.4+ds/urdf_parser/src/model.cpp\n",
      "/tmp/ipykernel_128694/3871048889.py:12: DeprecatedWarning: Call to deprecated function initDisplay. Use initViewer\n",
      "  robot.initDisplay(loadModel=True)\n",
      "Warning: link 'wrist_left_ft_tool_link' material 'FlatBlack' undefined.\n",
      "         at line 84 in /build/urdfdom-VnCcob/urdfdom-1.0.4+ds/urdf_parser/src/model.cpp\n",
      "Warning: link 'wrist_left_ft_tool_link' material 'FlatBlack' undefined.\n",
      "         at line 84 in /build/urdfdom-VnCcob/urdfdom-1.0.4+ds/urdf_parser/src/model.cpp\n",
      "Warning: link 'wrist_left_ft_tool_link' material 'FlatBlack' undefined.\n",
      "         at line 84 in /build/urdfdom-VnCcob/urdfdom-1.0.4+ds/urdf_parser/src/model.cpp\n",
      "Warning: link 'wrist_left_ft_tool_link' material 'FlatBlack' undefined.\n",
      "         at line 84 in /build/urdfdom-VnCcob/urdfdom-1.0.4+ds/urdf_parser/src/model.cpp\n"
     ]
    }
   ],
   "source": [
    "# %load arm3d.py\n",
    "from robots import loadTalosArm\n",
    "from scipy.optimize import fmin_slsqp\n",
    "import pinocchio\n",
    "from pinocchio.utils import *\n",
    "from numpy.linalg import norm,inv,pinv,eig,svd\n",
    "\n",
    "m2a = lambda m: np.array(m.flat)\n",
    "a2m = lambda a: np.matrix(a).T\n",
    "\n",
    "robot   = loadTalosArm()\n",
    "robot.initDisplay(loadModel=True)\n",
    "\n",
    "class OptimProblem:\n",
    "    def __init__(self,rmodel,rdata,gview=None):\n",
    "        self.rmodel = rmodel\n",
    "        self.rdata = rdata\n",
    "        self.ref = [ .3, 0.3, 0.3 ]     # Target position\n",
    "        self.idEff = -1                 # ID of the robot object to control\n",
    "\n",
    "    def cost3(self,x):\n",
    "        q = a2m(x)\n",
    "        pinocchio.forwardKinematics(self.rmodel,self.rdata,q)\n",
    "        M = self.rdata.oMi[self.idEff]\n",
    "        self.residuals = m2a(M.translation) - self.ref\n",
    "        return sum( self.residuals**2 )\n",
    "\n",
    "    def initDisplay(self,gview=None):\n",
    "        self.gview = gview\n",
    "        if gview is None: return\n",
    "        self.gobj = \"world/target3d\"\n",
    "        self.gview.addSphere(self.gobj,.03,[1,0,0,1])\n",
    "        self.gview.applyConfiguration(self.gobj,self.ref+[0,0,0,1])\n",
    "        self.gview.refresh()\n",
    "\n",
    "    def callback(self,x):\n",
    "        import time\n",
    "        q = a2m(x)\n",
    "        robot.display(q)\n",
    "        time.sleep(1e-2)\n",
    "\n",
    "pbm = OptimProblem(robot.model,robot.model.createData(),robot.viewer.gui)\n",
    "\n",
    "x0  = m2a(robot.q0)\n",
    "result = fmin_slsqp(x0=x0,\n",
    "                    func=pbm.cost3,\n",
    "                    callback=pbm.callback)\n",
    "qopt = a2m(result)\n"
   ]
  },
  {
   "cell_type": "markdown",
   "metadata": {},
   "source": [
    "# Optimization of the effector placement\n",
    "The forward kinematics indeed computes the placement of the last frame, i.e the rotation R and the translation p, denoted M = \\[R,p\\] $\\in SE(3)$.\n",
    "We need to define a metric to score the distance between to frames $M_1$ and $M_2$. Several metrics can be chosen, but a nice one is given by the SE3 logarithm function, that converts the gap between two frames into the velocity that should applied (constant) during t=1 to bridge the gap a displace $M_1$ into $M_2$.  "
   ]
  },
  {
   "cell_type": "code",
   "execution_count": 74,
   "metadata": {
    "scrolled": true
   },
   "outputs": [
    {
     "name": "stdout",
     "output_type": "stream",
     "text": [
      "(  v =  0.565222 -0.815087  0.418248\n",
      "  w =  0.499815  0.564272 -0.207136\n",
      ", matrix([[ 0.5652219 , -0.81508665,  0.41824769,  0.4998151 ,  0.56427201,\n",
      "         -0.20713564]]))\n"
     ]
    }
   ],
   "source": [
    "M1 = SE3.Random()\n",
    "M2 = SE3.Random()\n",
    "nu = pinocchio.log(M1.inverse()*M2)\n",
    "print(nu,nu.vector.T)"
   ]
  },
  {
   "cell_type": "markdown",
   "metadata": {},
   "source": [
    "The norm of the logarithm is a proper cost function: it is 0 if and only if the two frames matches, and positive otherwise ; it is smooth; compare to other fancy metrics, it is easy to differenciate (at least, there are some well founded rules to differentiate the logarithm and related operators).\n",
    "\n",
    "Modify the program above to search for the robot configuration so that the end effector is placed at a reference position and orientation (solution only if need be). "
   ]
  },
  {
   "cell_type": "code",
   "execution_count": 75,
   "metadata": {},
   "outputs": [],
   "source": [
    "# %load arm6d.py"
   ]
  },
  {
   "cell_type": "markdown",
   "metadata": {},
   "source": [
    "# Frames"
   ]
  },
  {
   "cell_type": "markdown",
   "metadata": {},
   "source": [
    "We already said that the kinematic tree is composed of a hierarchy of frames corresponding to the output of each joint. In practice, we find it useful to attach additional frames to these main frames. We name the main frames defining the kinematic tree by Joint Frames, stored in rdata.oMi. The other frames are described in the model by the rmodel.frames list, each object storing its name, the index of its parent joint frame and the fixed placement with respect to its parent.\n"
   ]
  },
  {
   "cell_type": "code",
   "execution_count": 64,
   "metadata": {},
   "outputs": [
    {
     "name": "stdout",
     "output_type": "stream",
     "text": [
      "0 universe 0\n",
      "1 root_joint 0\n",
      "2 arm_left_1_link 0\n",
      "3 arm_left_2_joint 1\n",
      "4 arm_left_2_link 1\n",
      "5 arm_left_3_joint 2\n",
      "6 arm_left_3_link 2\n",
      "7 arm_left_4_joint 3\n",
      "8 arm_left_4_link 3\n",
      "9 arm_left_5_joint 4\n",
      "10 arm_left_5_link 4\n",
      "11 arm_left_6_joint 5\n",
      "12 arm_left_6_link 5\n",
      "13 arm_left_7_joint 6\n",
      "14 arm_left_7_link 6\n",
      "15 wrist_left_ft_joint 6\n",
      "16 wrist_left_ft_link 6\n",
      "17 wrist_left_tool_joint 6\n",
      "18 wrist_left_ft_tool_link 6\n",
      "19 gripper_left_base_link_joint 6\n",
      "20 gripper_left_base_link 6\n",
      "21 gripper_left_inner_double_joint 6\n",
      "22 gripper_left_inner_double_link 6\n",
      "23 gripper_left_fingertip_1_joint 6\n",
      "24 gripper_left_fingertip_1_link 6\n",
      "25 gripper_left_fingertip_2_joint 6\n",
      "26 gripper_left_fingertip_2_link 6\n",
      "27 gripper_left_inner_single_joint 6\n",
      "28 gripper_left_inner_single_link 6\n",
      "29 gripper_left_fingertip_3_joint 6\n",
      "30 gripper_left_fingertip_3_link 6\n",
      "31 gripper_left_joint 7\n",
      "32 gripper_left_motor_double_link 7\n",
      "33 gripper_left_motor_single_joint 6\n",
      "34 gripper_left_motor_single_link 6\n"
     ]
    }
   ],
   "source": [
    "for i,f in enumerate(rmodel.frames): print(i,f.name,f.parent)"
   ]
  },
  {
   "cell_type": "markdown",
   "metadata": {},
   "source": [
    "For convenience, we also describe if this frame was parsed as a body frame, a joint frame (yes, joint frames are copied again in the rmodel.frames list as it makes the access to frame more generic) or as fixed joints (that is a pretty classical trick in URDF. \n",
    "\n",
    "For example, the joint frame attached to the foot of a biped robot is often located at its ankle, i.e. 5 to 10 cm above the ground. We then also attach a second frame on the foot sole, to make it easier to write the contact constraints. And similarly for a quadruped, the last joint frame is at the knew, and we rather attach another frame at the tip of the leg.\n",
    "\n",
    "Frames are best indexed by their name:"
   ]
  },
  {
   "cell_type": "code",
   "execution_count": 65,
   "metadata": {},
   "outputs": [
    {
     "name": "stdout",
     "output_type": "stream",
     "text": [
      "26\n"
     ]
    }
   ],
   "source": [
    "fid = rmodel.getFrameId('gripper_left_fingertip_2_link')\n",
    "print(fid)"
   ]
  },
  {
   "cell_type": "markdown",
   "metadata": {},
   "source": [
    "The joint placement are stored in rdata.oMi. The frame placements are stored in rdata.oMf. By default, the forwardKinematics does not reevaluate the oMf. Do it with:"
   ]
  },
  {
   "cell_type": "code",
   "execution_count": 66,
   "metadata": {},
   "outputs": [],
   "source": [
    "pinocchio.updateFramePlacements(rmodel,rdata)"
   ]
  },
  {
   "cell_type": "markdown",
   "metadata": {},
   "source": [
    "Note that this method does not need q to evaluate the oMf from the oMi.\n",
    "\n",
    "Modify the above example to optimize the placement of the robot effector tip rather than its wrist."
   ]
  },
  {
   "cell_type": "markdown",
   "metadata": {},
   "source": [
    "# With joint limits\n",
    "The joint limits are also parsed from the URDF model and stored in rmodel.lowerLimit and rmodel.upperLimit."
   ]
  },
  {
   "cell_type": "code",
   "execution_count": 67,
   "metadata": {},
   "outputs": [
    {
     "name": "stdout",
     "output_type": "stream",
     "text": [
      "[ 0.         -2.44346095 -2.35619449 -2.53072742 -1.3962634  -0.6981317\n",
      " -1.04719755] [2.87979327 2.44346095 0.         2.53072742 1.3962634  0.6981317\n",
      " 0.        ]\n"
     ]
    }
   ],
   "source": [
    "print(rmodel.lowerPositionLimit.T,rmodel.upperPositionLimit.T)"
   ]
  },
  {
   "cell_type": "markdown",
   "metadata": {},
   "source": [
    "fmin_slsqp accepts bound constraints as a list of 2-ples (lower,upper)."
   ]
  },
  {
   "cell_type": "code",
   "execution_count": 68,
   "metadata": {},
   "outputs": [],
   "source": [
    "bounds=[ (l,u) for l,u in zip(robot.model.lowerPositionLimit.flat,robot.model.upperPositionLimit.flat) ]"
   ]
  },
  {
   "cell_type": "markdown",
   "metadata": {},
   "source": [
    "# Constraint or cost\n",
    "We yet set up a cost whose optimum is reached at 0. In this case, we could equivalently set it up as a constraint, and possibly optimize a second objective like the posture. Let's do that know, as later we will need to play more with constraint and cost.\n",
    "\n",
    "## Constraints in slsqp\n",
    "Constraints should be implemented as function that returns an array of NC values, that should be 0 in a successful optimization. It seems that there is a problem in the numerical differencition scheme of slsqp that force the user to return a list of values instead of a array of value. \n",
    "\n",
    "## Posture cost under constraint terminal position\n",
    "Implement a new cost function that minimize the squared norm between the current configuration and a reference configuration, and turn the previous cost function into a constraint function that returns the list of x,y and z errors to a 3D position target.\n",
    "\n",
    "The 0 configuration stored in rmodel.neutralConfiguration can be used for a reference configuration.\n",
    "\n"
   ]
  },
  {
   "cell_type": "code",
   "execution_count": 75,
   "metadata": {},
   "outputs": [
    {
     "name": "stderr",
     "output_type": "stream",
     "text": [
      "Warning: link 'wrist_left_ft_tool_link' material 'FlatBlack' undefined.\n",
      "         at line 84 in /build/urdfdom-VnCcob/urdfdom-1.0.4+ds/urdf_parser/src/model.cpp\n",
      "Warning: link 'wrist_left_ft_tool_link' material 'FlatBlack' undefined.\n",
      "         at line 84 in /build/urdfdom-VnCcob/urdfdom-1.0.4+ds/urdf_parser/src/model.cpp\n",
      "/tmp/ipykernel_128694/560294236.py:12: DeprecatedWarning: Call to deprecated function initDisplay. Use initViewer\n",
      "  robot.initDisplay(loadModel=True)\n",
      "Warning: link 'wrist_left_ft_tool_link' material 'FlatBlack' undefined.\n",
      "         at line 84 in /build/urdfdom-VnCcob/urdfdom-1.0.4+ds/urdf_parser/src/model.cpp\n",
      "Warning: link 'wrist_left_ft_tool_link' material 'FlatBlack' undefined.\n",
      "         at line 84 in /build/urdfdom-VnCcob/urdfdom-1.0.4+ds/urdf_parser/src/model.cpp\n",
      "Warning: link 'wrist_left_ft_tool_link' material 'FlatBlack' undefined.\n",
      "         at line 84 in /build/urdfdom-VnCcob/urdfdom-1.0.4+ds/urdf_parser/src/model.cpp\n",
      "Warning: link 'wrist_left_ft_tool_link' material 'FlatBlack' undefined.\n",
      "         at line 84 in /build/urdfdom-VnCcob/urdfdom-1.0.4+ds/urdf_parser/src/model.cpp\n"
     ]
    },
    {
     "ename": "AttributeError",
     "evalue": "'OptimProblem' object has no attribute 'refQ'",
     "output_type": "error",
     "traceback": [
      "\u001b[0;31m---------------------------------------------------------------------------\u001b[0m",
      "\u001b[0;31mAttributeError\u001b[0m                            Traceback (most recent call last)",
      "Cell \u001b[0;32mIn[75], line 58\u001b[0m\n\u001b[1;32m     55\u001b[0m pbm \u001b[38;5;241m=\u001b[39m OptimProblem(robot\u001b[38;5;241m.\u001b[39mmodel,robot\u001b[38;5;241m.\u001b[39mmodel\u001b[38;5;241m.\u001b[39mcreateData(),robot\u001b[38;5;241m.\u001b[39mviewer\u001b[38;5;241m.\u001b[39mgui)\n\u001b[1;32m     57\u001b[0m x0  \u001b[38;5;241m=\u001b[39m m2a(robot\u001b[38;5;241m.\u001b[39mq0)\n\u001b[0;32m---> 58\u001b[0m result \u001b[38;5;241m=\u001b[39m \u001b[43mfmin_slsqp\u001b[49m\u001b[43m(\u001b[49m\u001b[43mx0\u001b[49m\u001b[43m       \u001b[49m\u001b[38;5;241;43m=\u001b[39;49m\u001b[43m \u001b[49m\u001b[43mx0\u001b[49m\u001b[43m,\u001b[49m\n\u001b[1;32m     59\u001b[0m \u001b[43m                    \u001b[49m\u001b[43mfunc\u001b[49m\u001b[43m     \u001b[49m\u001b[38;5;241;43m=\u001b[39;49m\u001b[43m \u001b[49m\u001b[43mpbm\u001b[49m\u001b[38;5;241;43m.\u001b[39;49m\u001b[43mcost\u001b[49m\u001b[43m,\u001b[49m\n\u001b[1;32m     60\u001b[0m \u001b[43m                    \u001b[49m\u001b[43mf_eqcons\u001b[49m\u001b[43m \u001b[49m\u001b[38;5;241;43m=\u001b[39;49m\u001b[43m \u001b[49m\u001b[43mpbm\u001b[49m\u001b[38;5;241;43m.\u001b[39;49m\u001b[43mconstraint\u001b[49m\u001b[43m,\u001b[49m\n\u001b[1;32m     61\u001b[0m \u001b[43m                    \u001b[49m\u001b[43mcallback\u001b[49m\u001b[43m \u001b[49m\u001b[38;5;241;43m=\u001b[39;49m\u001b[43m \u001b[49m\u001b[43mpbm\u001b[49m\u001b[38;5;241;43m.\u001b[39;49m\u001b[43mcallback\u001b[49m\u001b[43m)\u001b[49m\n\u001b[1;32m     62\u001b[0m qopt \u001b[38;5;241m=\u001b[39m a2m(result)\n",
      "File \u001b[0;32m~/personal/pinocchio_practice/pino_env/lib/python3.8/site-packages/scipy/optimize/_slsqp_py.py:206\u001b[0m, in \u001b[0;36mfmin_slsqp\u001b[0;34m(func, x0, eqcons, f_eqcons, ieqcons, f_ieqcons, bounds, fprime, fprime_eqcons, fprime_ieqcons, args, iter, acc, iprint, disp, full_output, epsilon, callback)\u001b[0m\n\u001b[1;32m    202\u001b[0m \u001b[38;5;28;01mif\u001b[39;00m f_ieqcons:\n\u001b[1;32m    203\u001b[0m     cons \u001b[38;5;241m+\u001b[39m\u001b[38;5;241m=\u001b[39m ({\u001b[38;5;124m'\u001b[39m\u001b[38;5;124mtype\u001b[39m\u001b[38;5;124m'\u001b[39m: \u001b[38;5;124m'\u001b[39m\u001b[38;5;124mineq\u001b[39m\u001b[38;5;124m'\u001b[39m, \u001b[38;5;124m'\u001b[39m\u001b[38;5;124mfun\u001b[39m\u001b[38;5;124m'\u001b[39m: f_ieqcons, \u001b[38;5;124m'\u001b[39m\u001b[38;5;124mjac\u001b[39m\u001b[38;5;124m'\u001b[39m: fprime_ieqcons,\n\u001b[1;32m    204\u001b[0m               \u001b[38;5;124m'\u001b[39m\u001b[38;5;124margs\u001b[39m\u001b[38;5;124m'\u001b[39m: args}, )\n\u001b[0;32m--> 206\u001b[0m res \u001b[38;5;241m=\u001b[39m \u001b[43m_minimize_slsqp\u001b[49m\u001b[43m(\u001b[49m\u001b[43mfunc\u001b[49m\u001b[43m,\u001b[49m\u001b[43m \u001b[49m\u001b[43mx0\u001b[49m\u001b[43m,\u001b[49m\u001b[43m \u001b[49m\u001b[43margs\u001b[49m\u001b[43m,\u001b[49m\u001b[43m \u001b[49m\u001b[43mjac\u001b[49m\u001b[38;5;241;43m=\u001b[39;49m\u001b[43mfprime\u001b[49m\u001b[43m,\u001b[49m\u001b[43m \u001b[49m\u001b[43mbounds\u001b[49m\u001b[38;5;241;43m=\u001b[39;49m\u001b[43mbounds\u001b[49m\u001b[43m,\u001b[49m\n\u001b[1;32m    207\u001b[0m \u001b[43m                      \u001b[49m\u001b[43mconstraints\u001b[49m\u001b[38;5;241;43m=\u001b[39;49m\u001b[43mcons\u001b[49m\u001b[43m,\u001b[49m\u001b[43m \u001b[49m\u001b[38;5;241;43m*\u001b[39;49m\u001b[38;5;241;43m*\u001b[39;49m\u001b[43mopts\u001b[49m\u001b[43m)\u001b[49m\n\u001b[1;32m    208\u001b[0m \u001b[38;5;28;01mif\u001b[39;00m full_output:\n\u001b[1;32m    209\u001b[0m     \u001b[38;5;28;01mreturn\u001b[39;00m res[\u001b[38;5;124m'\u001b[39m\u001b[38;5;124mx\u001b[39m\u001b[38;5;124m'\u001b[39m], res[\u001b[38;5;124m'\u001b[39m\u001b[38;5;124mfun\u001b[39m\u001b[38;5;124m'\u001b[39m], res[\u001b[38;5;124m'\u001b[39m\u001b[38;5;124mnit\u001b[39m\u001b[38;5;124m'\u001b[39m], res[\u001b[38;5;124m'\u001b[39m\u001b[38;5;124mstatus\u001b[39m\u001b[38;5;124m'\u001b[39m], res[\u001b[38;5;124m'\u001b[39m\u001b[38;5;124mmessage\u001b[39m\u001b[38;5;124m'\u001b[39m]\n",
      "File \u001b[0;32m~/personal/pinocchio_practice/pino_env/lib/python3.8/site-packages/scipy/optimize/_slsqp_py.py:374\u001b[0m, in \u001b[0;36m_minimize_slsqp\u001b[0;34m(func, x0, args, jac, bounds, constraints, maxiter, ftol, iprint, disp, eps, callback, finite_diff_rel_step, **unknown_options)\u001b[0m\n\u001b[1;32m    371\u001b[0m     xu[infbnd[:, \u001b[38;5;241m1\u001b[39m]] \u001b[38;5;241m=\u001b[39m np\u001b[38;5;241m.\u001b[39mnan\n\u001b[1;32m    373\u001b[0m \u001b[38;5;66;03m# ScalarFunction provides function and gradient evaluation\u001b[39;00m\n\u001b[0;32m--> 374\u001b[0m sf \u001b[38;5;241m=\u001b[39m \u001b[43m_prepare_scalar_function\u001b[49m\u001b[43m(\u001b[49m\u001b[43mfunc\u001b[49m\u001b[43m,\u001b[49m\u001b[43m \u001b[49m\u001b[43mx\u001b[49m\u001b[43m,\u001b[49m\u001b[43m \u001b[49m\u001b[43mjac\u001b[49m\u001b[38;5;241;43m=\u001b[39;49m\u001b[43mjac\u001b[49m\u001b[43m,\u001b[49m\u001b[43m \u001b[49m\u001b[43margs\u001b[49m\u001b[38;5;241;43m=\u001b[39;49m\u001b[43margs\u001b[49m\u001b[43m,\u001b[49m\u001b[43m \u001b[49m\u001b[43mepsilon\u001b[49m\u001b[38;5;241;43m=\u001b[39;49m\u001b[43meps\u001b[49m\u001b[43m,\u001b[49m\n\u001b[1;32m    375\u001b[0m \u001b[43m                              \u001b[49m\u001b[43mfinite_diff_rel_step\u001b[49m\u001b[38;5;241;43m=\u001b[39;49m\u001b[43mfinite_diff_rel_step\u001b[49m\u001b[43m,\u001b[49m\n\u001b[1;32m    376\u001b[0m \u001b[43m                              \u001b[49m\u001b[43mbounds\u001b[49m\u001b[38;5;241;43m=\u001b[39;49m\u001b[43mnew_bounds\u001b[49m\u001b[43m)\u001b[49m\n\u001b[1;32m    377\u001b[0m \u001b[38;5;66;03m# gh11403 SLSQP sometimes exceeds bounds by 1 or 2 ULP, make sure this\u001b[39;00m\n\u001b[1;32m    378\u001b[0m \u001b[38;5;66;03m# doesn't get sent to the func/grad evaluator.\u001b[39;00m\n\u001b[1;32m    379\u001b[0m wrapped_fun \u001b[38;5;241m=\u001b[39m _clip_x_for_func(sf\u001b[38;5;241m.\u001b[39mfun, new_bounds)\n",
      "File \u001b[0;32m~/personal/pinocchio_practice/pino_env/lib/python3.8/site-packages/scipy/optimize/_optimize.py:332\u001b[0m, in \u001b[0;36m_prepare_scalar_function\u001b[0;34m(fun, x0, jac, args, bounds, epsilon, finite_diff_rel_step, hess)\u001b[0m\n\u001b[1;32m    328\u001b[0m     bounds \u001b[38;5;241m=\u001b[39m (\u001b[38;5;241m-\u001b[39mnp\u001b[38;5;241m.\u001b[39minf, np\u001b[38;5;241m.\u001b[39minf)\n\u001b[1;32m    330\u001b[0m \u001b[38;5;66;03m# ScalarFunction caches. Reuse of fun(x) during grad\u001b[39;00m\n\u001b[1;32m    331\u001b[0m \u001b[38;5;66;03m# calculation reduces overall function evaluations.\u001b[39;00m\n\u001b[0;32m--> 332\u001b[0m sf \u001b[38;5;241m=\u001b[39m \u001b[43mScalarFunction\u001b[49m\u001b[43m(\u001b[49m\u001b[43mfun\u001b[49m\u001b[43m,\u001b[49m\u001b[43m \u001b[49m\u001b[43mx0\u001b[49m\u001b[43m,\u001b[49m\u001b[43m \u001b[49m\u001b[43margs\u001b[49m\u001b[43m,\u001b[49m\u001b[43m \u001b[49m\u001b[43mgrad\u001b[49m\u001b[43m,\u001b[49m\u001b[43m \u001b[49m\u001b[43mhess\u001b[49m\u001b[43m,\u001b[49m\n\u001b[1;32m    333\u001b[0m \u001b[43m                    \u001b[49m\u001b[43mfinite_diff_rel_step\u001b[49m\u001b[43m,\u001b[49m\u001b[43m \u001b[49m\u001b[43mbounds\u001b[49m\u001b[43m,\u001b[49m\u001b[43m \u001b[49m\u001b[43mepsilon\u001b[49m\u001b[38;5;241;43m=\u001b[39;49m\u001b[43mepsilon\u001b[49m\u001b[43m)\u001b[49m\n\u001b[1;32m    335\u001b[0m \u001b[38;5;28;01mreturn\u001b[39;00m sf\n",
      "File \u001b[0;32m~/personal/pinocchio_practice/pino_env/lib/python3.8/site-packages/scipy/optimize/_differentiable_functions.py:158\u001b[0m, in \u001b[0;36mScalarFunction.__init__\u001b[0;34m(self, fun, x0, args, grad, hess, finite_diff_rel_step, finite_diff_bounds, epsilon)\u001b[0m\n\u001b[1;32m    155\u001b[0m     \u001b[38;5;28mself\u001b[39m\u001b[38;5;241m.\u001b[39mf \u001b[38;5;241m=\u001b[39m fun_wrapped(\u001b[38;5;28mself\u001b[39m\u001b[38;5;241m.\u001b[39mx)\n\u001b[1;32m    157\u001b[0m \u001b[38;5;28mself\u001b[39m\u001b[38;5;241m.\u001b[39m_update_fun_impl \u001b[38;5;241m=\u001b[39m update_fun\n\u001b[0;32m--> 158\u001b[0m \u001b[38;5;28;43mself\u001b[39;49m\u001b[38;5;241;43m.\u001b[39;49m\u001b[43m_update_fun\u001b[49m\u001b[43m(\u001b[49m\u001b[43m)\u001b[49m\n\u001b[1;32m    160\u001b[0m \u001b[38;5;66;03m# Gradient evaluation\u001b[39;00m\n\u001b[1;32m    161\u001b[0m \u001b[38;5;28;01mif\u001b[39;00m \u001b[38;5;28mcallable\u001b[39m(grad):\n",
      "File \u001b[0;32m~/personal/pinocchio_practice/pino_env/lib/python3.8/site-packages/scipy/optimize/_differentiable_functions.py:251\u001b[0m, in \u001b[0;36mScalarFunction._update_fun\u001b[0;34m(self)\u001b[0m\n\u001b[1;32m    249\u001b[0m \u001b[38;5;28;01mdef\u001b[39;00m \u001b[38;5;21m_update_fun\u001b[39m(\u001b[38;5;28mself\u001b[39m):\n\u001b[1;32m    250\u001b[0m     \u001b[38;5;28;01mif\u001b[39;00m \u001b[38;5;129;01mnot\u001b[39;00m \u001b[38;5;28mself\u001b[39m\u001b[38;5;241m.\u001b[39mf_updated:\n\u001b[0;32m--> 251\u001b[0m         \u001b[38;5;28;43mself\u001b[39;49m\u001b[38;5;241;43m.\u001b[39;49m\u001b[43m_update_fun_impl\u001b[49m\u001b[43m(\u001b[49m\u001b[43m)\u001b[49m\n\u001b[1;32m    252\u001b[0m         \u001b[38;5;28mself\u001b[39m\u001b[38;5;241m.\u001b[39mf_updated \u001b[38;5;241m=\u001b[39m \u001b[38;5;28;01mTrue\u001b[39;00m\n",
      "File \u001b[0;32m~/personal/pinocchio_practice/pino_env/lib/python3.8/site-packages/scipy/optimize/_differentiable_functions.py:155\u001b[0m, in \u001b[0;36mScalarFunction.__init__.<locals>.update_fun\u001b[0;34m()\u001b[0m\n\u001b[1;32m    154\u001b[0m \u001b[38;5;28;01mdef\u001b[39;00m \u001b[38;5;21mupdate_fun\u001b[39m():\n\u001b[0;32m--> 155\u001b[0m     \u001b[38;5;28mself\u001b[39m\u001b[38;5;241m.\u001b[39mf \u001b[38;5;241m=\u001b[39m \u001b[43mfun_wrapped\u001b[49m\u001b[43m(\u001b[49m\u001b[38;5;28;43mself\u001b[39;49m\u001b[38;5;241;43m.\u001b[39;49m\u001b[43mx\u001b[49m\u001b[43m)\u001b[49m\n",
      "File \u001b[0;32m~/personal/pinocchio_practice/pino_env/lib/python3.8/site-packages/scipy/optimize/_differentiable_functions.py:137\u001b[0m, in \u001b[0;36mScalarFunction.__init__.<locals>.fun_wrapped\u001b[0;34m(x)\u001b[0m\n\u001b[1;32m    133\u001b[0m \u001b[38;5;28mself\u001b[39m\u001b[38;5;241m.\u001b[39mnfev \u001b[38;5;241m+\u001b[39m\u001b[38;5;241m=\u001b[39m \u001b[38;5;241m1\u001b[39m\n\u001b[1;32m    134\u001b[0m \u001b[38;5;66;03m# Send a copy because the user may overwrite it.\u001b[39;00m\n\u001b[1;32m    135\u001b[0m \u001b[38;5;66;03m# Overwriting results in undefined behaviour because\u001b[39;00m\n\u001b[1;32m    136\u001b[0m \u001b[38;5;66;03m# fun(self.x) will change self.x, with the two no longer linked.\u001b[39;00m\n\u001b[0;32m--> 137\u001b[0m fx \u001b[38;5;241m=\u001b[39m \u001b[43mfun\u001b[49m\u001b[43m(\u001b[49m\u001b[43mnp\u001b[49m\u001b[38;5;241;43m.\u001b[39;49m\u001b[43mcopy\u001b[49m\u001b[43m(\u001b[49m\u001b[43mx\u001b[49m\u001b[43m)\u001b[49m\u001b[43m,\u001b[49m\u001b[43m \u001b[49m\u001b[38;5;241;43m*\u001b[39;49m\u001b[43margs\u001b[49m\u001b[43m)\u001b[49m\n\u001b[1;32m    138\u001b[0m \u001b[38;5;66;03m# Make sure the function returns a true scalar\u001b[39;00m\n\u001b[1;32m    139\u001b[0m \u001b[38;5;28;01mif\u001b[39;00m \u001b[38;5;129;01mnot\u001b[39;00m np\u001b[38;5;241m.\u001b[39misscalar(fx):\n",
      "Cell \u001b[0;32mIn[75], line 25\u001b[0m, in \u001b[0;36mOptimProblem.cost\u001b[0;34m(self, x)\u001b[0m\n\u001b[1;32m     23\u001b[0m \u001b[38;5;28;01mdef\u001b[39;00m \u001b[38;5;21mcost\u001b[39m(\u001b[38;5;28mself\u001b[39m,x):\n\u001b[1;32m     24\u001b[0m     q \u001b[38;5;241m=\u001b[39m a2m(x)\n\u001b[0;32m---> 25\u001b[0m     \u001b[38;5;28mself\u001b[39m\u001b[38;5;241m.\u001b[39mresiduals \u001b[38;5;241m=\u001b[39m m2a(q\u001b[38;5;241m-\u001b[39m\u001b[38;5;28;43mself\u001b[39;49m\u001b[38;5;241;43m.\u001b[39;49m\u001b[43mrefQ\u001b[49m)\n\u001b[1;32m     26\u001b[0m     \u001b[38;5;28;01mreturn\u001b[39;00m \u001b[38;5;28msum\u001b[39m(\u001b[38;5;28mself\u001b[39m\u001b[38;5;241m.\u001b[39mresiduals\u001b[38;5;241m*\u001b[39m\u001b[38;5;241m*\u001b[39m\u001b[38;5;241m2\u001b[39m)\n",
      "\u001b[0;31mAttributeError\u001b[0m: 'OptimProblem' object has no attribute 'refQ'"
     ]
    }
   ],
   "source": [
    "# %load arm3dconstraint.py\n",
    "from robots import loadTalosArm\n",
    "from scipy.optimize import fmin_slsqp\n",
    "import pinocchio\n",
    "from pinocchio.utils import *\n",
    "from numpy.linalg import norm,inv,pinv,eig,svd\n",
    "\n",
    "m2a = lambda m: np.array(m.flat)\n",
    "a2m = lambda a: np.matrix(a).T\n",
    "\n",
    "robot   = loadTalosArm()\n",
    "robot.initDisplay(loadModel=True)\n",
    "\n",
    "class OptimProblem:\n",
    "    def __init__(self,rmodel,rdata,gview=None):\n",
    "        self.rmodel = rmodel\n",
    "        self.rdata = rdata\n",
    "        self.refEff = [ .3, 0.3, 0.3 ]     # Target position\n",
    "        self.idEff = rmodel.getFrameId('gripper_left_fingertip_2_link')\n",
    "        self.refQ = rmodel.neutralConfiguration\n",
    "        self.initDisplay(gview)\n",
    "        \n",
    "    def cost(self,x):\n",
    "        q = a2m(x)\n",
    "        self.residuals = m2a(q-self.refQ)\n",
    "        return sum(self.residuals**2)\n",
    "\n",
    "    def constraint(self,x):\n",
    "        q = a2m(x)\n",
    "        pinocchio.forwardKinematics(self.rmodel,self.rdata,q)\n",
    "        pinocchio.updateFramePlacements(self.rmodel,self.rdata)\n",
    "        M = self.rdata.oMf[self.idEff]\n",
    "        self.eq = m2a(M.translation) - self.refEff\n",
    "        return self.eq.flat\n",
    "\n",
    "    @property\n",
    "    def bounds(self):\n",
    "        return [ (10*l,u) for l,u in zip(self.rmodel.lowerPositionLimit.flat,\n",
    "                                      self.rmodel.upperPositionLimit.flat) ]\n",
    "\n",
    "    def initDisplay(self,gview=None):\n",
    "        self.gview = gview\n",
    "        if gview is None: return\n",
    "        self.gobj = \"world/target3d\"\n",
    "        self.gview.addSphere(self.gobj,.03,[1,0,0,1])\n",
    "        self.gview.applyConfiguration(self.gobj,self.refEff+[0,0,0,1])\n",
    "        self.gview.refresh()\n",
    "\n",
    "    def callback(self,x):\n",
    "        import time\n",
    "        q = a2m(x)\n",
    "        robot.display(q)\n",
    "        time.sleep(1e-2)\n",
    "\n",
    "pbm = OptimProblem(robot.model,robot.model.createData(),robot.viewer.gui)\n",
    "\n",
    "x0  = m2a(robot.q0)\n",
    "result = fmin_slsqp(x0       = x0,\n",
    "                    func     = pbm.cost,\n",
    "                    f_eqcons = pbm.constraint,\n",
    "                    callback = pbm.callback)\n",
    "qopt = a2m(result)\n"
   ]
  },
  {
   "cell_type": "markdown",
   "metadata": {},
   "source": [
    "# Non Euclidean configuration space\n",
    "\n",
    "The arm only has revolute joints, which are simple to model. Let's now move to the case where we have joints with 3D rotation, in particular the case of floating robots.\n",
    "\n",
    "A biped robot can be loaded from robots.py"
   ]
  },
  {
   "cell_type": "code",
   "execution_count": 74,
   "metadata": {},
   "outputs": [
    {
     "name": "stderr",
     "output_type": "stream",
     "text": [
      "Warning: link 'wrist_right_ft_tool_link' material 'FlatBlack' undefined.\n",
      "         at line 84 in /build/urdfdom-VnCcob/urdfdom-1.0.4+ds/urdf_parser/src/model.cpp\n",
      "Warning: link 'wrist_right_ft_tool_link' material 'FlatBlack' undefined.\n",
      "         at line 84 in /build/urdfdom-VnCcob/urdfdom-1.0.4+ds/urdf_parser/src/model.cpp\n",
      "Warning: link 'wrist_left_ft_tool_link' material 'FlatBlack' undefined.\n",
      "         at line 84 in /build/urdfdom-VnCcob/urdfdom-1.0.4+ds/urdf_parser/src/model.cpp\n",
      "Warning: link 'wrist_left_ft_tool_link' material 'FlatBlack' undefined.\n",
      "         at line 84 in /build/urdfdom-VnCcob/urdfdom-1.0.4+ds/urdf_parser/src/model.cpp\n",
      "Warning: link 'wrist_right_ft_tool_link' material 'FlatBlack' undefined.\n",
      "         at line 84 in /build/urdfdom-VnCcob/urdfdom-1.0.4+ds/urdf_parser/src/model.cpp\n",
      "Warning: link 'wrist_right_ft_tool_link' material 'FlatBlack' undefined.\n",
      "         at line 84 in /build/urdfdom-VnCcob/urdfdom-1.0.4+ds/urdf_parser/src/model.cpp\n",
      "Warning: link 'wrist_left_ft_tool_link' material 'FlatBlack' undefined.\n",
      "         at line 84 in /build/urdfdom-VnCcob/urdfdom-1.0.4+ds/urdf_parser/src/model.cpp\n",
      "Warning: link 'wrist_left_ft_tool_link' material 'FlatBlack' undefined.\n",
      "         at line 84 in /build/urdfdom-VnCcob/urdfdom-1.0.4+ds/urdf_parser/src/model.cpp\n",
      "Warning: link 'wrist_right_ft_tool_link' material 'FlatBlack' undefined.\n",
      "         at line 84 in /build/urdfdom-VnCcob/urdfdom-1.0.4+ds/urdf_parser/src/model.cpp\n",
      "Warning: link 'wrist_right_ft_tool_link' material 'FlatBlack' undefined.\n",
      "         at line 84 in /build/urdfdom-VnCcob/urdfdom-1.0.4+ds/urdf_parser/src/model.cpp\n",
      "Warning: link 'wrist_left_ft_tool_link' material 'FlatBlack' undefined.\n",
      "         at line 84 in /build/urdfdom-VnCcob/urdfdom-1.0.4+ds/urdf_parser/src/model.cpp\n",
      "Warning: link 'wrist_left_ft_tool_link' material 'FlatBlack' undefined.\n",
      "         at line 84 in /build/urdfdom-VnCcob/urdfdom-1.0.4+ds/urdf_parser/src/model.cpp\n"
     ]
    },
    {
     "ename": "AttributeError",
     "evalue": "module 'pinocchio' has no attribute 'getNeutralConfiguration'",
     "output_type": "error",
     "traceback": [
      "\u001b[0;31m---------------------------------------------------------------------------\u001b[0m",
      "\u001b[0;31mAttributeError\u001b[0m                            Traceback (most recent call last)",
      "Cell \u001b[0;32mIn[74], line 2\u001b[0m\n\u001b[1;32m      1\u001b[0m \u001b[38;5;28;01mfrom\u001b[39;00m \u001b[38;5;21;01mrobots\u001b[39;00m \u001b[38;5;28;01mimport\u001b[39;00m loadTalosLegs\n\u001b[0;32m----> 2\u001b[0m robot \u001b[38;5;241m=\u001b[39m \u001b[43mloadTalosLegs\u001b[49m\u001b[43m(\u001b[49m\u001b[43m)\u001b[49m\n\u001b[1;32m      3\u001b[0m \u001b[38;5;66;03m#rmodel = robot.model ; rdata = rmodel.createData()\u001b[39;00m\n\u001b[1;32m      4\u001b[0m \u001b[38;5;66;03m#print(robot.model)\u001b[39;00m\n",
      "File \u001b[0;32m~/personal/wsmemmo_pinocchio/robots.py:51\u001b[0m, in \u001b[0;36mloadTalosLegs\u001b[0;34m(modelPath)\u001b[0m\n\u001b[1;32m     49\u001b[0m \u001b[38;5;28;01mdef\u001b[39;00m \u001b[38;5;21mloadTalosLegs\u001b[39m(modelPath\u001b[38;5;241m=\u001b[39m\u001b[38;5;124m'\u001b[39m\u001b[38;5;124m/opt/openrobots/share\u001b[39m\u001b[38;5;124m'\u001b[39m):\n\u001b[1;32m     50\u001b[0m     \u001b[38;5;28;01mfrom\u001b[39;00m \u001b[38;5;21;01mpinocchio\u001b[39;00m \u001b[38;5;28;01mimport\u001b[39;00m JointModelFreeFlyer,JointModelRX,JointModelRY,JointModelRZ\n\u001b[0;32m---> 51\u001b[0m     robot \u001b[38;5;241m=\u001b[39m \u001b[43mloadTalos\u001b[49m\u001b[43m(\u001b[49m\u001b[43mmodelPath\u001b[49m\u001b[38;5;241;43m=\u001b[39;49m\u001b[43mmodelPath\u001b[49m\u001b[43m)\u001b[49m\n\u001b[1;32m     52\u001b[0m     SRDF_FILENAME \u001b[38;5;241m=\u001b[39m \u001b[38;5;124m\"\u001b[39m\u001b[38;5;124mtalos.srdf\u001b[39m\u001b[38;5;124m\"\u001b[39m\n\u001b[1;32m     53\u001b[0m     SRDF_SUBPATH \u001b[38;5;241m=\u001b[39m \u001b[38;5;124m\"\u001b[39m\u001b[38;5;124m/talos_data/srdf/\u001b[39m\u001b[38;5;124m\"\u001b[39m \u001b[38;5;241m+\u001b[39m SRDF_FILENAME\n",
      "File \u001b[0;32m~/personal/wsmemmo_pinocchio/robots.py:35\u001b[0m, in \u001b[0;36mloadTalos\u001b[0;34m(modelPath)\u001b[0m\n\u001b[1;32m     33\u001b[0m \u001b[38;5;66;03m# Load SRDF file\u001b[39;00m\n\u001b[1;32m     34\u001b[0m rmodel \u001b[38;5;241m=\u001b[39m robot\u001b[38;5;241m.\u001b[39mmodel\n\u001b[0;32m---> 35\u001b[0m \u001b[43mpinocchio\u001b[49m\u001b[38;5;241;43m.\u001b[39;49m\u001b[43mgetNeutralConfiguration\u001b[49m(rmodel, modelPath\u001b[38;5;241m+\u001b[39mSRDF_SUBPATH, \u001b[38;5;28;01mFalse\u001b[39;00m)\n\u001b[1;32m     36\u001b[0m pinocchio\u001b[38;5;241m.\u001b[39mloadRotorParameters(rmodel, modelPath\u001b[38;5;241m+\u001b[39mSRDF_SUBPATH, \u001b[38;5;28;01mFalse\u001b[39;00m)\n\u001b[1;32m     37\u001b[0m rmodel\u001b[38;5;241m.\u001b[39marmature \u001b[38;5;241m=\u001b[39m \\\n\u001b[1;32m     38\u001b[0m           np\u001b[38;5;241m.\u001b[39mmultiply(rmodel\u001b[38;5;241m.\u001b[39mrotorInertia\u001b[38;5;241m.\u001b[39mflat, np\u001b[38;5;241m.\u001b[39msquare(rmodel\u001b[38;5;241m.\u001b[39mrotorGearRatio\u001b[38;5;241m.\u001b[39mflat))\n",
      "\u001b[0;31mAttributeError\u001b[0m: module 'pinocchio' has no attribute 'getNeutralConfiguration'"
     ]
    }
   ],
   "source": [
    "from robots import loadTalosLegs\n",
    "robot = loadTalosLegs()\n",
    "#rmodel = robot.model ; rdata = rmodel.createData()\n",
    "#print(robot.model)"
   ]
  },
  {
   "cell_type": "markdown",
   "metadata": {},
   "source": [
    "Each leg has 6 revolute joints, 12 joints in total, plus the free flyer joint that denotes the movements between a fixed \"universe\" frame and the root of the robot locate at the hip. The free flyer corresponds to 12 degrees of freedom but will be represented in Pinocchio with 3 translation and a unit quaternion, i.e. 7 parameters (and 1 constraint, the norm of quaternion should be one). In total, rmodel.nq is 19, while the number of degrees of freedom rmodel.nv is 18:"
   ]
  },
  {
   "cell_type": "code",
   "execution_count": 90,
   "metadata": {},
   "outputs": [
    {
     "name": "stdout",
     "output_type": "stream",
     "text": [
      "(19, 18)\n"
     ]
    }
   ],
   "source": [
    "print(rmodel.nq,rmodel.nv)"
   ]
  },
  {
   "cell_type": "markdown",
   "metadata": {},
   "source": [
    "It is now less direct to measure the distance between 2 configurations, randomly pick a configuration and locally change a configuration.\n",
    "## Randomly sampling a configuration\n",
    "Pinocchio implements the randomConfiguration algorithm to sample a configuration for a model where q is subject to constraints:"
   ]
  },
  {
   "cell_type": "code",
   "execution_count": 92,
   "metadata": {},
   "outputs": [
    {
     "name": "stdout",
     "output_type": "stream",
     "text": [
      "[[-0.86048945  0.89865415  0.0519907   0.3395308  -0.25082182 -0.15213238\n",
      "   0.89367946  0.78046521 -0.30221413 -0.87165736 -0.9599539  -0.08459653\n",
      "  -0.87380832 -0.52344009  0.94126826  0.80441615  0.70183957 -0.4666685\n",
      "   0.07952068]]\n"
     ]
    }
   ],
   "source": [
    "q = pinocchio.randomConfiguration(rmodel)\n",
    "print(q.T)"
   ]
  },
  {
   "cell_type": "markdown",
   "metadata": {},
   "source": [
    "## Distance and increment of configuration\n",
    "A velocity $v_q$ will have rmodel.nv dimension, while q as rmodel.nq>rmodel.nv dimension. It is not possible any more to add q+v. \n",
    "\n",
    "Pinocchio implements the integrate algorithm to add a displacement $v_q$ in the configuration space."
   ]
  },
  {
   "cell_type": "code",
   "execution_count": 97,
   "metadata": {},
   "outputs": [
    {
     "name": "stdout",
     "output_type": "stream",
     "text": [
      "((19, 1), (18, 1))\n"
     ]
    }
   ],
   "source": [
    "vq = rand(rmodel.nv)\n",
    "print(q.shape,vq.shape)\n",
    "qnext = pinocchio.integrate(rmodel,q,vq)"
   ]
  },
  {
   "cell_type": "markdown",
   "metadata": {},
   "source": [
    "We will measure a distance between two configurations $q_1$ and $q_2$ as the velocity to apply during t=1 to go from $q_1$ to $q_2$."
   ]
  },
  {
   "cell_type": "code",
   "execution_count": 99,
   "metadata": {},
   "outputs": [],
   "source": [
    "q1 = pinocchio.randomConfiguration(rmodel)\n",
    "q2 = pinocchio.randomConfiguration(rmodel)\n",
    "dq = pinocchio.difference(rmodel,q1,q2)"
   ]
  },
  {
   "cell_type": "markdown",
   "metadata": {},
   "source": [
    "## Working with optimization and quaternion: the problem\n",
    "If we let the solver optimize over a constrained q without notifying it, the algorithm will quickly comes to a q that does not respect the constraint hence is not an interesting solution.\n",
    "\n",
    "Try to think of the expected result before running the following algorithm."
   ]
  },
  {
   "cell_type": "code",
   "execution_count": 103,
   "metadata": {},
   "outputs": [
    {
     "name": "stdout",
     "output_type": "stream",
     "text": [
      "Optimization terminated successfully.    (Exit mode 0)\n",
      "            Current function value: 9.805254993626674e-07\n",
      "            Iterations: 24\n",
      "            Function evaluations: 527\n",
      "            Gradient evaluations: 24\n"
     ]
    }
   ],
   "source": [
    "# %load bip6fail.py\n",
    "from robots import loadTalosLegs\n",
    "from scipy.optimize import fmin_slsqp\n",
    "import pinocchio\n",
    "from pinocchio.utils import *\n",
    "from numpy.linalg import norm,inv,pinv,eig,svd\n",
    "\n",
    "m2a = lambda m: np.array(m.flat)\n",
    "a2m = lambda a: np.matrix(a).T\n",
    "\n",
    "robot   = loadTalosLegs()\n",
    "robot.initDisplay(loadModel=True)\n",
    "\n",
    "class OptimProblem:\n",
    "    def __init__(self,rmodel,rdata,gview=None):\n",
    "        self.rmodel = rmodel\n",
    "        self.rdata = rdata\n",
    "\n",
    "        self.refL = pinocchio.SE3(eye(3), np.matrix([ 0., 1.5, 1.]).T )\n",
    "        self.idL = rmodel.getFrameId('left_sole_link')  # ID of the robot object to control\n",
    "\n",
    "        self.refR = pinocchio.SE3(eye(3), np.matrix([ 0., -1.5, 0.]).T )\n",
    "        self.idR = rmodel.getFrameId('right_sole_link')# ID of the robot object to control\n",
    "\n",
    "        self.initDisplay(gview)\n",
    "\n",
    "    def cost(self,x):\n",
    "        q = a2m(x)\n",
    "        pinocchio.forwardKinematics(self.rmodel,self.rdata,q)\n",
    "        pinocchio.updateFramePlacements(self.rmodel,self.rdata)\n",
    "\n",
    "        refMl = self.refL.inverse()*self.rdata.oMf[self.idL]\n",
    "        residualL = m2a(pinocchio.log(refMl).vector)\n",
    "        refMr = self.refR.inverse()*self.rdata.oMf[self.idR]\n",
    "        residualR = m2a(pinocchio.log(refMr).vector)\n",
    "\n",
    "        self.residuals = np.concatenate([residualL,residualR])\n",
    "        return sum( self.residuals**2 )\n",
    "    \n",
    "    # --- BLABLA -------------------------------------------------------------\n",
    "    def initDisplay(self,gview):\n",
    "        if gview is None: return \n",
    "        self.gview = gview\n",
    "        self.gobjR = \"world/targetR\"\n",
    "        self.gobjL = \"world/targetL\"\n",
    "        self.gview.addBox(self.gobjR,.1,.03,.03,[1,0,0,1])\n",
    "        self.gview.addBox(self.gobjL,.1,.03,.03,[0,1,0,1])\n",
    "        self.gview.applyConfiguration(self.gobjR,se3ToXYZQUAT(self.refR))\n",
    "        self.gview.applyConfiguration(self.gobjL,se3ToXYZQUAT(self.refL))\n",
    "        self.gview.refresh()\n",
    "    def callback(self,x):\n",
    "        import time\n",
    "        q = a2m(x)\n",
    "        robot.display(q)\n",
    "        time.sleep(1e-2)\n",
    "     \n",
    "pbm = OptimProblem(robot.model,robot.data,robot.viewer.gui)\n",
    "\n",
    "x0  = m2a(robot.q0)\n",
    "result = fmin_slsqp(x0       = x0,\n",
    "                    func     = pbm.cost,\n",
    "                    callback = pbm.callback)\n",
    "qopt = a2m(result)\n"
   ]
  },
  {
   "cell_type": "markdown",
   "metadata": {},
   "source": [
    "## Working with optimization and quaternion: solution 1\n",
    "We can add a constraint to force the solver to keep the quaternion unitary. Do it! (solution only if need be)."
   ]
  },
  {
   "cell_type": "code",
   "execution_count": 105,
   "metadata": {},
   "outputs": [
    {
     "name": "stdout",
     "output_type": "stream",
     "text": [
      "Optimization terminated successfully.    (Exit mode 0)\n",
      "            Current function value: 1.2396718207311839\n",
      "            Iterations: 22\n",
      "            Function evaluations: 472\n",
      "            Gradient evaluations: 22\n",
      "[ 1.60942620e-01 -1.69722777e-06  3.56128015e-04  9.86963810e-01]\n"
     ]
    }
   ],
   "source": [
    "# %load solution_quaternion_constraint.py\n"
   ]
  },
  {
   "cell_type": "markdown",
   "metadata": {},
   "source": [
    "## Working with optimization and quaternion: solution 2\n",
    "An alternative is to work in another representation of the configuration space that is minimal. To be efficient, it should also be smooth and easy to differentiate. \n",
    "\n",
    "Here, we will use a representation as $v_q$ the displacement from a reference configuration $q_0$. It is not a very good representation when $v_q$ becomes too large. But it as the advantage that the derivatives are not too complex to compute. And it is a good representation when $v_q$ is small. In more advanced algorithms, we will keep the same representation but change the reference $q_0$ from time to time. By that way, everything that we do here can be kept for a more advance numerical algorithm."
   ]
  },
  {
   "cell_type": "code",
   "execution_count": 107,
   "metadata": {},
   "outputs": [
    {
     "name": "stdout",
     "output_type": "stream",
     "text": [
      "Optimization terminated successfully.    (Exit mode 0)\n",
      "            Current function value: 0.46197412553901923\n",
      "            Iterations: 6\n",
      "            Function evaluations: 120\n",
      "            Gradient evaluations: 6\n"
     ]
    }
   ],
   "source": [
    "# %load bip6d.py\n",
    "from robots import loadTalosLegs\n",
    "from scipy.optimize import fmin_slsqp\n",
    "import pinocchio\n",
    "from pinocchio.utils import *\n",
    "from numpy.linalg import norm,inv,pinv,eig,svd\n",
    "\n",
    "m2a = lambda m: np.array(m.flat)\n",
    "a2m = lambda a: np.matrix(a).T\n",
    "\n",
    "robot   = loadTalosLegs()\n",
    "robot.initDisplay(loadModel=True)\n",
    "\n",
    "class OptimProblem:\n",
    "    def __init__(self,rmodel,rdata,gview=None):\n",
    "\n",
    "        self.rmodel = rmodel\n",
    "        self.rdata = rdata\n",
    "\n",
    "        self.refL = pinocchio.SE3(eye(3), np.matrix([ 0., .3, 0.]).T )\n",
    "        self.idL = rmodel.getFrameId('left_sole_link')  # ID of the robot object to control\n",
    "\n",
    "        self.refR = pinocchio.SE3(eye(3), np.matrix([ 0., -.3, 0.]).T )\n",
    "        self.idR = rmodel.getFrameId('right_sole_link')# ID of the robot object to control\n",
    "\n",
    "        self.refQ = rmodel.neutralConfiguration\n",
    "\n",
    "        self.initDisplay(gview)\n",
    "\n",
    "        self.neq = 12\n",
    "        self.eq = np.zeros(self.neq)\n",
    "        self.Jeq = np.zeros([self.neq, self.rmodel.nv])\n",
    "\n",
    "        # configurations are represented as velocity integrated from this point.\n",
    "        self.q0 = rmodel.neutralConfiguration\n",
    "\n",
    "    def vq2q(self,vq):   return pinocchio.integrate(self.rmodel,self.q0,vq)\n",
    "    def q2vq(self,q):    return pinocchio.difference(self.rmodel,self.q0,q)\n",
    "        \n",
    "    def cost(self,x):\n",
    "        q = self.vq2q(a2m(x))\n",
    "        self.residuals = m2a(pinocchio.difference(self.rmodel,self.refQ,q)[6:])\n",
    "        return sum( self.residuals**2 )\n",
    "        \n",
    "    def constraint_leftfoot(self,x,nc=0):\n",
    "        q = self.vq2q(a2m(x))\n",
    "        pinocchio.forwardKinematics(self.rmodel,self.rdata,q)\n",
    "        pinocchio.updateFramePlacements(self.rmodel,self.rdata)\n",
    "        refMl = self.refL.inverse()*self.rdata.oMf[self.idL]\n",
    "        self.eq[nc:nc+6] = m2a(pinocchio.log(refMl).vector)\n",
    "        return self.eq[nc:nc+6].tolist()\n",
    "\n",
    "    def constraint_rightfoot(self,x,nc=0):\n",
    "        q = self.vq2q(a2m(x))\n",
    "        pinocchio.forwardKinematics(self.rmodel,self.rdata,q)\n",
    "        pinocchio.updateFramePlacements(self.rmodel,self.rdata)\n",
    "        refMr = self.refR.inverse()*self.rdata.oMf[self.idR]\n",
    "        self.eq[nc:nc+6] = m2a(pinocchio.log(refMr).vector)\n",
    "        return self.eq[nc:nc+6].tolist()\n",
    "\n",
    "    def constraint(self,x):\n",
    "        self.constraint_rightfoot(x,0)\n",
    "        self.constraint_leftfoot(x,6)\n",
    "        return self.eq.tolist()\n",
    "    \n",
    "    # --- BLABLA -------------------------------------------------------------\n",
    "    def initDisplay(self,gview):\n",
    "        if gview is None: return \n",
    "        self.gview = gview\n",
    "        self.gobjR = \"world/targetR\"\n",
    "        self.gobjL = \"world/targetL\"\n",
    "        self.gview.addBox(self.gobjR,.1,.03,.03,[1,0,0,1])\n",
    "        self.gview.addBox(self.gobjL,.1,.03,.03,[0,1,0,1])\n",
    "        self.gview.applyConfiguration(self.gobjR,se3ToXYZQUAT(self.refR))\n",
    "        self.gview.applyConfiguration(self.gobjL,se3ToXYZQUAT(self.refL))\n",
    "        self.gview.refresh()\n",
    "\n",
    "    def callback(self,x):\n",
    "        import time\n",
    "        q = self.vq2q(a2m(x))\n",
    "        robot.display(q)\n",
    "        time.sleep(1e-1)\n",
    "\n",
    "\n",
    "pbm = OptimProblem(robot.model,robot.data,robot.viewer.gui)\n",
    "pbm.refQ = robot.q0.copy()\n",
    "\n",
    "x0  = m2a(pbm.q2vq(robot.q0))\n",
    "result = fmin_slsqp(x0       = x0,\n",
    "                    func     = pbm.cost,\n",
    "                    f_eqcons = pbm.constraint,\n",
    "                    callback = pbm.callback)\n",
    "qopt = pbm.vq2q(a2m(result))\n"
   ]
  },
  {
   "cell_type": "code",
   "execution_count": null,
   "metadata": {},
   "outputs": [],
   "source": []
  }
 ],
 "metadata": {
  "kernelspec": {
   "display_name": "pinocc_env_view",
   "language": "python",
   "name": "pino_env"
  },
  "language_info": {
   "codemirror_mode": {
    "name": "ipython",
    "version": 3
   },
   "file_extension": ".py",
   "mimetype": "text/x-python",
   "name": "python",
   "nbconvert_exporter": "python",
   "pygments_lexer": "ipython3",
   "version": "3.8.10"
  }
 },
 "nbformat": 4,
 "nbformat_minor": 4
}
