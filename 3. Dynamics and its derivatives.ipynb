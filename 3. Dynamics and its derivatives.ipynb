{
 "cells": [
  {
   "cell_type": "markdown",
   "metadata": {},
   "source": [
    "Let's start again with the classical imports and shortcuts."
   ]
  },
  {
   "cell_type": "code",
   "execution_count": 3,
   "metadata": {},
   "outputs": [],
   "source": [
    "from robots import loadTalosArm\n",
    "from scipy.optimize import fmin_slsqp\n",
    "import pinocchio\n",
    "from pinocchio.utils import *\n",
    "from numpy.linalg import norm,inv,pinv,eig,svd\n",
    "\n",
    "m2a = lambda m: np.array(m.flat)\n",
    "a2m = lambda a: np.matrix(a).T\n",
    "\n",
    "robot   = loadTalosArm()\n",
    "robot.initDisplay(loadModel=True)\n",
    "robot.viewer.gui.deleteNode('world',True)\n",
    "robot.initDisplay(loadModel=True)\n",
    "\n",
    "rmodel = robot.model\n",
    "rdata = rmodel.createData()"
   ]
  },
  {
   "cell_type": "markdown",
   "metadata": {},
   "source": [
    "# Dynamics with 3 main algorithms\n",
    "First recall that the dynamics of a robot can be written under the Langrangian form by:\n",
    "\n",
    "$M(q) \\dot{v}_q + c(q,v_q) + g(q) = $tau_q$\n",
    "\n",
    "where $q, v_q, \\dot{v}_q$ are the position, velocity and acceleration in the configuration space (that we can denote by $q,\\dot{q},\\ddot{q}$ in easy cases), $c$ are the centrifugal and Coriolis terms, $g$ is the gravity force in the configuration space and $\\tau_q$ are the torques applied at the motor by any other means, in particular by the motors, by possible springs and by the external forces. The $c$ is quadratic and is sometime written $c(q,v_q) = C(q,v_q) v_q = v_q^T R(q) v_q$ with $C$ a matrix and $R$ a tensor.\n",
    "\n",
    "As $M$ is a positive definite matrix (otherwise it means that you have a problem with your robot model), we can invert it and also write it in the other way, i.e as $\\dot{v}_q$ a function $q,v_q,\\tau_q$.\n",
    "\n",
    "$M^-1(q) ( \\tau_q - c(q,v_q) - g(q) ) = \\dot{v}_q$\n",
    "\n",
    "We call the first equation the inverse dynamics (it is typically a control viewpoint) and the second the direct/forward dynamics (it is rather a simulation viewpoint). "
   ]
  },
  {
   "cell_type": "code",
   "execution_count": 4,
   "metadata": {},
   "outputs": [],
   "source": [
    "q = pinocchio.randomConfiguration(rmodel)\n",
    "vq = rand(rmodel.nv)*2-1\n",
    "aq = rand(rmodel.nv)*2-1"
   ]
  },
  {
   "cell_type": "markdown",
   "metadata": {},
   "source": [
    "## The inverse dynamics: Recursive Newton Euler Algorithm\n",
    "\n",
    "The RNE algorithm compute the inverse dynamics ie $\\tau_q :=rnea(q,v_q,\\dot{v}_q) $"
   ]
  },
  {
   "cell_type": "code",
   "execution_count": 7,
   "metadata": {},
   "outputs": [
    {
     "name": "stdout",
     "output_type": "stream",
     "text": [
      "[[ 1.67600113e+01  7.57439465e+00 -7.64209909e+00  5.51064376e-01\n",
      "   1.20253731e-01 -1.79974541e+00  6.23997782e-03]]\n"
     ]
    }
   ],
   "source": [
    "tauq = pinocchio.rnea(rmodel,rdata,q,vq,aq)\n",
    "print(tauq.T)"
   ]
  },
  {
   "cell_type": "markdown",
   "metadata": {},
   "source": [
    "## The forward dynamics: Articulated Body Algorithm\n",
    "The AB algorithm compute the forward dynamics ie $\\dot{v}_q = aba(q,v_q,\\tau_q)$"
   ]
  },
  {
   "cell_type": "code",
   "execution_count": 9,
   "metadata": {},
   "outputs": [
    {
     "name": "stdout",
     "output_type": "stream",
     "text": [
      "8.564937111781086e-14\n"
     ]
    }
   ],
   "source": [
    "aq_check = pinocchio.aba(rmodel,rdata,q,vq,tauq)\n",
    "print(norm(aq-aq_check))"
   ]
  },
  {
   "cell_type": "markdown",
   "metadata": {},
   "source": [
    "## Computing the mass matrix: the Composite Rigid Body Algorithm\n",
    "The CRB algorithm compute $M$ as a function of $q$."
   ]
  },
  {
   "cell_type": "code",
   "execution_count": 11,
   "metadata": {},
   "outputs": [
    {
     "name": "stdout",
     "output_type": "stream",
     "text": [
      "[0.99825852 0.33533915 0.08279344 0.01130456 0.00827147 0.00447846\n",
      " 0.00110745]\n"
     ]
    }
   ],
   "source": [
    "M = pinocchio.crba(rmodel,rdata,q)\n",
    "print(eig(M)[0])"
   ]
  },
  {
   "cell_type": "markdown",
   "metadata": {},
   "source": [
    "When you need M, you also typically need $b(q,v_q) = c(q,v_q)+g(q)$ that we sometime name the biais, or drift, or affine term of the dynamics. You can compute both with:"
   ]
  },
  {
   "cell_type": "code",
   "execution_count": 13,
   "metadata": {},
   "outputs": [
    {
     "name": "stdout",
     "output_type": "stream",
     "text": [
      "0.0\n",
      "1.7798789105919607e-15\n"
     ]
    }
   ],
   "source": [
    "pinocchio.computeAllTerms(rmodel,rdata,q,vq)\n",
    "print(norm(M-rdata.M))\n",
    "nle_check = pinocchio.rnea(rmodel,rdata,q,vq,0*aq)\n",
    "print(norm(rdata.nle-nle_check))"
   ]
  },
  {
   "cell_type": "markdown",
   "metadata": {},
   "source": [
    "ComputeAllTerms does not returns anything but computes and stores many interesting values in rdata. It also compute the rdata.com and its derivative rdata.Jcom, the kinetic and potential energy, etc.\n",
    "\n",
    "These 4 algorithms also compute all the joint placements, velocities, accelerations and forces, hence corresponding to more than a call to forwardKinematics(q,vq,aq).\n"
   ]
  },
  {
   "cell_type": "markdown",
   "metadata": {},
   "source": [
    "## Forces in RNEA and ABA\n",
    "\n",
    "We may often want to separate $\\tau_q$ in two terms $\\tau_q = \\tau_m+J^T \\phi$, where $\\tau_m$ are the forces due to the robot itself (motors, elastics, etc) and $J^T \\phi$ are the joint torques due to the external forces $\\phi$, where $J$ is the Jacobian of the contact interfaces. The most complete case is when $\\phi$ is a spatial force; then $J$ is the 6D Jacobian that transforms the configuration velocity into the velocity of the contact frame (both velocity and force being represented in the same space, typically LOCAL).\n",
    "\n",
    "Both RNEA and ABA accept forces in their interface as a STD vector of spatial forces. The interface here is not super nice, as you should give a comprehensive list of all possible forces, putting 0 when you don't want a force.\n"
   ]
  },
  {
   "cell_type": "code",
   "execution_count": 16,
   "metadata": {},
   "outputs": [],
   "source": [
    "forces = pinocchio.StdVect_Force()\n",
    "for i in range(rmodel.njoints): forces.append(pinocchio.Force.Zero())\n",
    "pinocchio.rnea(rmodel,rdata,q,vq,aq,forces)\n",
    "pinocchio.aba(rmodel,rdata,q,vq,tauq,forces);"
   ]
  },
  {
   "cell_type": "markdown",
   "metadata": {},
   "source": [
    "# Contact inverse dynamics optimization problem\n",
    "This problem is to find the torque and forces that makes a given acceleration (for example $\\dot{v}_q =0$) possible.\n",
    "\n",
    "$min_{phi,\\tau_q} || M \\dot{v}_q + b - \\tau_q - J^T \\phi ||^2$\n",
    "\n",
    "Typically, you want to constraint $\\phi$ and $\\tau_q$ to be in some given domain (like $\\phi$ in the contact cones and $\\tau_q$ in the motor range). As pinocchio is not implementing a contact model that would define such ranges, we do not treat the problem here. And typically, you hope to nullify the cost.\n",
    "\n",
    "Writing the problem when contact forces are computed at some joint frames is relatively easy. Let's do it directly when expressing quantities at some other operational frames, which is slightly more tricky and also more useful.\n",
    "\n",
    "First, recall that you can get a frame ID and the corresponding Jacobian as follows:\n"
   ]
  },
  {
   "cell_type": "code",
   "execution_count": 19,
   "metadata": {},
   "outputs": [
    {
     "data": {
      "text/plain": [
       "matrix([[ 3.58630743e-01,  2.92269729e-01, -3.85095748e-01,\n",
       "          3.13637554e-02, -9.56834956e-04, -2.13985000e-01,\n",
       "          0.00000000e+00],\n",
       "        [ 2.98451208e-01,  3.50288617e-01,  2.60708248e-01,\n",
       "         -3.34621874e-02,  2.13348819e-01, -3.46944695e-18,\n",
       "          0.00000000e+00],\n",
       "        [ 3.03169295e-02,  9.71650125e-02,  1.28190255e-01,\n",
       "         -1.26873212e-02,  5.11310480e-02,  3.20000000e-02,\n",
       "          0.00000000e+00],\n",
       "        [ 1.15802973e-01,  7.47386037e-01,  6.01407197e-01,\n",
       "         -1.73920705e-02,  9.99824951e-01, -2.16840434e-17,\n",
       "          0.00000000e+00],\n",
       "        [-3.83311369e-02, -6.54797986e-01,  7.38722116e-01,\n",
       "         -3.68684086e-01, -5.03069808e-17,  1.00000000e+00,\n",
       "          0.00000000e+00],\n",
       "        [-9.92532314e-01,  1.12488707e-01,  3.04300869e-01,\n",
       "          9.29392038e-01,  1.87101086e-02,  1.38777878e-17,\n",
       "          0.00000000e+00]])"
      ]
     },
     "execution_count": 19,
     "metadata": {},
     "output_type": "execute_result"
    }
   ],
   "source": [
    "fid = rmodel.getFrameId('gripper_left_fingertip_2_link')\n",
    "LOCAL = pinocchio.ReferenceFrame.LOCAL\n",
    "pinocchio.computeAllTerms(rmodel,rdata,q,vq)\n",
    "pinocchio.updateFramePlacements(rmodel,rdata)\n",
    "pinocchio.getFrameJacobian(rmodel,rdata,fid,LOCAL)"
   ]
  },
  {
   "cell_type": "markdown",
   "metadata": {},
   "source": [
    "We now have M, b, and the J, so writing the optimization problem is straight forward. Just do it!\n",
    "Below is a solution with the biped and 2 contact points if you need."
   ]
  },
  {
   "cell_type": "code",
   "execution_count": 21,
   "metadata": {},
   "outputs": [
    {
     "name": "stdout",
     "output_type": "stream",
     "text": [
      "Optimization terminated successfully.    (Exit mode 0)\n",
      "            Current function value: 4.151039471548705e-08\n",
      "            Iterations: 11\n",
      "            Function evaluations: 362\n",
      "            Gradient evaluations: 11\n"
     ]
    }
   ],
   "source": [
    "# %load solution_cid.py\n",
    "from robots import loadTalosLegs\n",
    "from scipy.optimize import fmin_slsqp\n",
    "import pinocchio\n",
    "from pinocchio.utils import *\n",
    "from numpy.linalg import norm,inv,pinv,eig,svd\n",
    "\n",
    "robot   = loadTalosLegs()\n",
    "rmodel  = robot.model\n",
    "rdata   = robot.data\n",
    "\n",
    "m2a = lambda m: np.array(m.flat)\n",
    "a2m = lambda a: np.matrix(a).T\n",
    "LOCAL = pinocchio.ReferenceFrame.LOCAL\n",
    "WORLD = pinocchio.ReferenceFrame.WORLD\n",
    "\n",
    "#robot.initDisplay(loadModel=True)\n",
    "#gview = robot.viewer.gui\n",
    "gview = None\n",
    "\n",
    "class OptimProblem:\n",
    "    def __init__(self,rmodel,rdata,q,vq,gview=None):\n",
    "        self.rmodel = rmodel\n",
    "        self.rdata = rdata\n",
    "\n",
    "        self.idL = rmodel.getFrameId('left_sole_link')  # ID of the robot object to control\n",
    "        self.idR = rmodel.getFrameId('right_sole_link')# ID of the robot object to control\n",
    "        self.jidL = rmodel.frames[self.idL].parent\n",
    "        self.jidR = rmodel.frames[self.idR].parent\n",
    "\n",
    "        self.q = q.copy()\n",
    "        self.vq = vq.copy()\n",
    "        \n",
    "    def x2vars(self,x):\n",
    "        idx = 0\n",
    "        nvar = self.rmodel.nv; tauq = a2m(x[idx:idx+nvar]); idx+=nvar\n",
    "        nvar = 6             ; phir = a2m(x[idx:idx+nvar]); idx+=nvar\n",
    "        nvar = 6             ; phil = a2m(x[idx:idx+nvar]); idx+=nvar\n",
    "        return tauq,phir,phil\n",
    "        \n",
    "    def cost(self,x):\n",
    "        tauq,fr,fl = self.x2vars(x)\n",
    "        pinocchio.computeAllTerms(self.rmodel,self.rdata,self.q,self.vq)\n",
    "        b = self.rdata.nle\n",
    "        pinocchio.updateFramePlacements(self.rmodel,self.rdata)\n",
    "        Jr = pinocchio.getFrameJacobian(self.rmodel,self.rdata,self.idR,LOCAL)\n",
    "        Jl = pinocchio.getFrameJacobian(self.rmodel,self.rdata,self.idL,LOCAL)\n",
    "        self.residuals = m2a(b - tauq - Jr.T*fr - Jl.T*fl)\n",
    "        return sum( self.residuals**2 )\n",
    "        \n",
    "    # --- BLABLA -------------------------------------------------------------\n",
    "    def callback(self,x):\n",
    "        pass\n",
    "        \n",
    "   \n",
    "pbm = OptimProblem(rmodel,rdata,q=robot.q0,vq=zero(rmodel.nv))\n",
    "x0 = np.zeros(robot.model.nv+12)\n",
    "\n",
    "res = fmin_slsqp(x0=x0,\n",
    "                 func=pbm.cost,\n",
    "                 epsilon=1e-7,callback=pbm.callback,iter=1000)\n",
    "\n",
    "\n",
    "\n"
   ]
  },
  {
   "cell_type": "markdown",
   "metadata": {},
   "source": [
    "A sanity check can be implemented using RNEA. But for that, we cannot keep the forces expressed in the contact frame: RNEA only has an interface to accept forces expressed in joint frames. This is not difficult to change: the frames objects in rmodel contain their placement with respect to the joint parent: "
   ]
  },
  {
   "cell_type": "code",
   "execution_count": 22,
   "metadata": {},
   "outputs": [
    {
     "data": {
      "text/plain": [
       "  R =\n",
       "1 0 0\n",
       "0 1 0\n",
       "0 0 1\n",
       "  p = 0 0 0"
      ]
     },
     "execution_count": 22,
     "metadata": {},
     "output_type": "execute_result"
    }
   ],
   "source": [
    "rmodel.frames[fid].placement"
   ]
  },
  {
   "cell_type": "markdown",
   "metadata": {},
   "source": [
    "The force can be changed by applying this transform to the spatial force. Indeed SE3 placements implement an \"act\" interface that act on other spatial objects, in particular on forces."
   ]
  },
  {
   "cell_type": "code",
   "execution_count": 24,
   "metadata": {},
   "outputs": [
    {
     "data": {
      "text/plain": [
       "  f =  0.83239 0.271423 0.434594\n",
       "tau = -0.716795  0.213938 -0.967399"
      ]
     },
     "execution_count": 24,
     "metadata": {},
     "output_type": "execute_result"
    }
   ],
   "source": [
    "M = rmodel.frames[fid].placement\n",
    "f = pinocchio.Force.Random()\n",
    "M.act(f)"
   ]
  },
  {
   "cell_type": "markdown",
   "metadata": {},
   "source": [
    "For all your contact points, get the transform from contact frame to joint parent frame, and transform the forces resulting from the optimization scheme into forces expressed in the joint parent. Then call RNEA to check that the pair $\\tau_q,\\phi$ is solving the dynamics equation."
   ]
  },
  {
   "cell_type": "code",
   "execution_count": null,
   "metadata": {},
   "outputs": [],
   "source": [
    "# %load solution_cid_check.py\n",
    "forces = pinocchio.StdVect_Force()\n",
    "for i in range(rmodel.njoints): forces.append(pinocchio.Force.Zero())\n",
    "\n",
    "tau,fr,fl = pbm.x2vars(res)\n",
    "\n",
    "Mr = rmodel.frames[pbm.idR].placement\n",
    "jr = rmodel.frames[pbm.idR].parent\n",
    "forces[jr] = Mr.act(pinocchio.Force(fr))\n",
    "\n",
    "Ml = rmodel.frames[pbm.idL].placement\n",
    "jl = rmodel.frames[pbm.idL].parent\n",
    "fl = pinocchio.Force(fl)\n",
    "forces[jl] = Mr.act(pinocchio.Force(fl))\n",
    "\n",
    "print(pinocchio.rnea(rmodel,rdata,pbm.q,pbm.vq,zero(rmodel.nv),forces)-tau)\n"
   ]
  },
  {
   "cell_type": "code",
   "execution_count": null,
   "metadata": {},
   "outputs": [],
   "source": []
  }
 ],
 "metadata": {
  "kernelspec": {
   "display_name": "Python 2",
   "language": "python",
   "name": "python2"
  },
  "language_info": {
   "codemirror_mode": {
    "name": "ipython",
    "version": 2
   },
   "file_extension": ".py",
   "mimetype": "text/x-python",
   "name": "python",
   "nbconvert_exporter": "python",
   "pygments_lexer": "ipython2",
   "version": "2.7.12"
  }
 },
 "nbformat": 4,
 "nbformat_minor": 2
}
